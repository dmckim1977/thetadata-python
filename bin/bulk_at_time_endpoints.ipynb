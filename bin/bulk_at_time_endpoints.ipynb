{
 "cells": [
  {
   "metadata": {},
   "cell_type": "markdown",
   "source": [
    "# Bulk At Time endpoints\n",
    "\n",
    "[Docs](https://http-docs.thetadata.us/docs/theta-data-rest-api-v2/lt6lvfdlx9zi4-quote-at-time)"
   ],
   "id": "bc3f437683876a08"
  },
  {
   "metadata": {
    "ExecuteTime": {
     "end_time": "2024-10-25T19:35:15.416544Z",
     "start_time": "2024-10-25T19:35:14.283771Z"
    }
   },
   "cell_type": "code",
   "source": [
    "import os\n",
    "import time\n",
    "\n",
    "import thetadata\n",
    "from thetadata import ThetaClient\n",
    "from dotenv import load_dotenv"
   ],
   "id": "a00fc07baa8b8f77",
   "outputs": [],
   "execution_count": 1
  },
  {
   "metadata": {
    "ExecuteTime": {
     "end_time": "2024-10-25T19:35:15.425374Z",
     "start_time": "2024-10-25T19:35:15.418090Z"
    }
   },
   "cell_type": "code",
   "source": [
    "# Get environment variables in .env in project root\n",
    "load_dotenv()\n",
    "\n",
    "USERNAME=os.getenv('THETAUSER')\n",
    "PASSWORD=os.getenv('THETAPASS')"
   ],
   "id": "46d6a95baf238dde",
   "outputs": [],
   "execution_count": 2
  },
  {
   "metadata": {
    "ExecuteTime": {
     "end_time": "2024-10-25T19:35:25.972703Z",
     "start_time": "2024-10-25T19:35:15.426889Z"
    }
   },
   "cell_type": "code",
   "source": [
    "client = ThetaClient(username=USERNAME, passwd=PASSWORD)\n",
    "time.sleep(8) # TODO because it isn't started yet. Need to fix"
   ],
   "id": "2459c16741bb14b1",
   "outputs": [
    {
     "name": "stdout",
     "output_type": "stream",
     "text": [
      "If you require API support, feel free to join our discord server! http://discord.thetadata.us\n",
      "[10-25-2024 14:35:18] INFO: Starting Theta Terminal v1.6.7 Revision A...\r\n",
      "[10-25-2024 14:35:18] INFO: Config dir: C:\\Users\\david\\ThetaData\\ThetaTerminal\r\n",
      "[10-25-2024 14:35:19] INFO: [MDDS] Attempting login as davidmckim@gmail.com\r\n",
      "[10-25-2024 14:35:19] INFO: [FPSS] Attempting login as davidmckim@gmail.com\r\n",
      "[10-25-2024 14:35:20] INFO: [MDDS] CONNECTED: [nj-a.thetadata.us:12000], Bundle: STOCK.FREE, OPTION.PRO, INDEX.FREE\r\n",
      "[10-25-2024 14:35:20] INFO: [FPSS] CONNECTED: [nj-a.thetadata.us:20000], Bundle: STOCK.FREE, OPTION.PRO, INDEX.FREE\r\n"
     ]
    }
   ],
   "execution_count": 3
  },
  {
   "metadata": {},
   "cell_type": "code",
   "outputs": [],
   "execution_count": null,
   "source": "client.status()",
   "id": "5a479501baa07a82"
  },
  {
   "metadata": {
    "ExecuteTime": {
     "end_time": "2024-10-25T19:35:59.599868Z",
     "start_time": "2024-10-25T19:35:25.976258Z"
    }
   },
   "cell_type": "code",
   "source": [
    "quotes = client.bulk_quote_at_time(\n",
    "    start_date=20241021,\n",
    "    end_date=20241024,\n",
    "    exp=20241024,\n",
    "    ivl=\"10:30\",\n",
    "    root=\"SPXW\",\n",
    ")\n",
    "quotes"
   ],
   "id": "af1a3e16710a9dc",
   "outputs": [
    {
     "name": "stdout",
     "output_type": "stream",
     "text": [
      "     ms_of_day  bid_size  bid_exchange  bid  bid_condition  ask_size  \\\n",
      "0          NaN       NaN           NaN  NaN            NaN       NaN   \n",
      "1          NaN       NaN           NaN  NaN            NaN       NaN   \n",
      "2          NaN       NaN           NaN  NaN            NaN       NaN   \n",
      "3          NaN       NaN           NaN  NaN            NaN       NaN   \n",
      "4          NaN       NaN           NaN  NaN            NaN       NaN   \n",
      "..         ...       ...           ...  ...            ...       ...   \n",
      "373        NaN       NaN           NaN  NaN            NaN       NaN   \n",
      "374        NaN       NaN           NaN  NaN            NaN       NaN   \n",
      "375        NaN       NaN           NaN  NaN            NaN       NaN   \n",
      "376        NaN       NaN           NaN  NaN            NaN       NaN   \n",
      "377        NaN       NaN           NaN  NaN            NaN       NaN   \n",
      "\n",
      "     ask_exchange  ask  ask_condition  date  \n",
      "0             NaN  NaN            NaN   NaN  \n",
      "1             NaN  NaN            NaN   NaN  \n",
      "2             NaN  NaN            NaN   NaN  \n",
      "3             NaN  NaN            NaN   NaN  \n",
      "4             NaN  NaN            NaN   NaN  \n",
      "..            ...  ...            ...   ...  \n",
      "373           NaN  NaN            NaN   NaN  \n",
      "374           NaN  NaN            NaN   NaN  \n",
      "375           NaN  NaN            NaN   NaN  \n",
      "376           NaN  NaN            NaN   NaN  \n",
      "377           NaN  NaN            NaN   NaN  \n",
      "\n",
      "[378 rows x 10 columns]\n",
      "nan\n"
     ]
    },
    {
     "ename": "ResponseParseError",
     "evalue": "Failed to parse list for request. Please send this error to support. 'float' object cannot be interpreted as an integer",
     "output_type": "error",
     "traceback": [
      "\u001B[1;31m---------------------------------------------------------------------------\u001B[0m",
      "\u001B[1;31mTypeError\u001B[0m                                 Traceback (most recent call last)",
      "File \u001B[1;32m~\\Documents\\github\\forks\\thetadata\\parsing.py:192\u001B[0m, in \u001B[0;36mparse_trade\u001B[1;34m(res)\u001B[0m\n\u001B[0;32m    191\u001B[0m df[\u001B[38;5;124m'\u001B[39m\u001B[38;5;124mdate\u001B[39m\u001B[38;5;124m'\u001B[39m] \u001B[38;5;241m=\u001B[39m pd\u001B[38;5;241m.\u001B[39mto_datetime(df[\u001B[38;5;124m'\u001B[39m\u001B[38;5;124mdate\u001B[39m\u001B[38;5;124m'\u001B[39m], \u001B[38;5;28mformat\u001B[39m\u001B[38;5;241m=\u001B[39m\u001B[38;5;124m\"\u001B[39m\u001B[38;5;124m%\u001B[39m\u001B[38;5;124mY\u001B[39m\u001B[38;5;124m%\u001B[39m\u001B[38;5;124mm\u001B[39m\u001B[38;5;132;01m%d\u001B[39;00m\u001B[38;5;124m\"\u001B[39m)\n\u001B[1;32m--> 192\u001B[0m df[\u001B[38;5;124m'\u001B[39m\u001B[38;5;124mms_of_day\u001B[39m\u001B[38;5;124m'\u001B[39m] \u001B[38;5;241m=\u001B[39m \u001B[43mdf\u001B[49m\u001B[43m[\u001B[49m\u001B[38;5;124;43m'\u001B[39;49m\u001B[38;5;124;43mms_of_day\u001B[39;49m\u001B[38;5;124;43m'\u001B[39;49m\u001B[43m]\u001B[49m\u001B[38;5;241;43m.\u001B[39;49m\u001B[43mapply\u001B[49m\u001B[43m(\u001B[49m\u001B[43mms_to_time\u001B[49m\u001B[43m)\u001B[49m\n\u001B[0;32m    193\u001B[0m df[\u001B[38;5;124m'\u001B[39m\u001B[38;5;124mtrade_datetime\u001B[39m\u001B[38;5;124m'\u001B[39m] \u001B[38;5;241m=\u001B[39m df\u001B[38;5;241m.\u001B[39mapply(\n\u001B[0;32m    194\u001B[0m     \u001B[38;5;28;01mlambda\u001B[39;00m row: datetime\u001B[38;5;241m.\u001B[39mcombine(row[\u001B[38;5;124m'\u001B[39m\u001B[38;5;124mdate\u001B[39m\u001B[38;5;124m'\u001B[39m], row[\u001B[38;5;124m'\u001B[39m\u001B[38;5;124mms_of_day\u001B[39m\u001B[38;5;124m'\u001B[39m])\u001B[38;5;241m.\u001B[39mreplace(\n\u001B[0;32m    195\u001B[0m         tzinfo\u001B[38;5;241m=\u001B[39mZoneInfo(\u001B[38;5;124m\"\u001B[39m\u001B[38;5;124mUS/Eastern\u001B[39m\u001B[38;5;124m\"\u001B[39m)\n\u001B[0;32m    196\u001B[0m     ),\n\u001B[0;32m    197\u001B[0m     axis\u001B[38;5;241m=\u001B[39m\u001B[38;5;241m1\u001B[39m\n\u001B[0;32m    198\u001B[0m )\n",
      "File \u001B[1;32m~\\Documents\\github\\forks\\.venv\\Lib\\site-packages\\pandas\\core\\series.py:4924\u001B[0m, in \u001B[0;36mSeries.apply\u001B[1;34m(self, func, convert_dtype, args, by_row, **kwargs)\u001B[0m\n\u001B[0;32m   4798\u001B[0m \u001B[38;5;250m\u001B[39m\u001B[38;5;124;03m\"\"\"\u001B[39;00m\n\u001B[0;32m   4799\u001B[0m \u001B[38;5;124;03mInvoke function on values of Series.\u001B[39;00m\n\u001B[0;32m   4800\u001B[0m \n\u001B[1;32m   (...)\u001B[0m\n\u001B[0;32m   4915\u001B[0m \u001B[38;5;124;03mdtype: float64\u001B[39;00m\n\u001B[0;32m   4916\u001B[0m \u001B[38;5;124;03m\"\"\"\u001B[39;00m\n\u001B[0;32m   4917\u001B[0m \u001B[38;5;28;01mreturn\u001B[39;00m \u001B[43mSeriesApply\u001B[49m\u001B[43m(\u001B[49m\n\u001B[0;32m   4918\u001B[0m \u001B[43m    \u001B[49m\u001B[38;5;28;43mself\u001B[39;49m\u001B[43m,\u001B[49m\n\u001B[0;32m   4919\u001B[0m \u001B[43m    \u001B[49m\u001B[43mfunc\u001B[49m\u001B[43m,\u001B[49m\n\u001B[0;32m   4920\u001B[0m \u001B[43m    \u001B[49m\u001B[43mconvert_dtype\u001B[49m\u001B[38;5;241;43m=\u001B[39;49m\u001B[43mconvert_dtype\u001B[49m\u001B[43m,\u001B[49m\n\u001B[0;32m   4921\u001B[0m \u001B[43m    \u001B[49m\u001B[43mby_row\u001B[49m\u001B[38;5;241;43m=\u001B[39;49m\u001B[43mby_row\u001B[49m\u001B[43m,\u001B[49m\n\u001B[0;32m   4922\u001B[0m \u001B[43m    \u001B[49m\u001B[43margs\u001B[49m\u001B[38;5;241;43m=\u001B[39;49m\u001B[43margs\u001B[49m\u001B[43m,\u001B[49m\n\u001B[0;32m   4923\u001B[0m \u001B[43m    \u001B[49m\u001B[43mkwargs\u001B[49m\u001B[38;5;241;43m=\u001B[39;49m\u001B[43mkwargs\u001B[49m\u001B[43m,\u001B[49m\n\u001B[1;32m-> 4924\u001B[0m \u001B[43m\u001B[49m\u001B[43m)\u001B[49m\u001B[38;5;241;43m.\u001B[39;49m\u001B[43mapply\u001B[49m\u001B[43m(\u001B[49m\u001B[43m)\u001B[49m\n",
      "File \u001B[1;32m~\\Documents\\github\\forks\\.venv\\Lib\\site-packages\\pandas\\core\\apply.py:1427\u001B[0m, in \u001B[0;36mSeriesApply.apply\u001B[1;34m(self)\u001B[0m\n\u001B[0;32m   1426\u001B[0m \u001B[38;5;66;03m# self.func is Callable\u001B[39;00m\n\u001B[1;32m-> 1427\u001B[0m \u001B[38;5;28;01mreturn\u001B[39;00m \u001B[38;5;28;43mself\u001B[39;49m\u001B[38;5;241;43m.\u001B[39;49m\u001B[43mapply_standard\u001B[49m\u001B[43m(\u001B[49m\u001B[43m)\u001B[49m\n",
      "File \u001B[1;32m~\\Documents\\github\\forks\\.venv\\Lib\\site-packages\\pandas\\core\\apply.py:1507\u001B[0m, in \u001B[0;36mSeriesApply.apply_standard\u001B[1;34m(self)\u001B[0m\n\u001B[0;32m   1506\u001B[0m action \u001B[38;5;241m=\u001B[39m \u001B[38;5;124m\"\u001B[39m\u001B[38;5;124mignore\u001B[39m\u001B[38;5;124m\"\u001B[39m \u001B[38;5;28;01mif\u001B[39;00m \u001B[38;5;28misinstance\u001B[39m(obj\u001B[38;5;241m.\u001B[39mdtype, CategoricalDtype) \u001B[38;5;28;01melse\u001B[39;00m \u001B[38;5;28;01mNone\u001B[39;00m\n\u001B[1;32m-> 1507\u001B[0m mapped \u001B[38;5;241m=\u001B[39m \u001B[43mobj\u001B[49m\u001B[38;5;241;43m.\u001B[39;49m\u001B[43m_map_values\u001B[49m\u001B[43m(\u001B[49m\n\u001B[0;32m   1508\u001B[0m \u001B[43m    \u001B[49m\u001B[43mmapper\u001B[49m\u001B[38;5;241;43m=\u001B[39;49m\u001B[43mcurried\u001B[49m\u001B[43m,\u001B[49m\u001B[43m \u001B[49m\u001B[43mna_action\u001B[49m\u001B[38;5;241;43m=\u001B[39;49m\u001B[43maction\u001B[49m\u001B[43m,\u001B[49m\u001B[43m \u001B[49m\u001B[43mconvert\u001B[49m\u001B[38;5;241;43m=\u001B[39;49m\u001B[38;5;28;43mself\u001B[39;49m\u001B[38;5;241;43m.\u001B[39;49m\u001B[43mconvert_dtype\u001B[49m\n\u001B[0;32m   1509\u001B[0m \u001B[43m\u001B[49m\u001B[43m)\u001B[49m\n\u001B[0;32m   1511\u001B[0m \u001B[38;5;28;01mif\u001B[39;00m \u001B[38;5;28mlen\u001B[39m(mapped) \u001B[38;5;129;01mand\u001B[39;00m \u001B[38;5;28misinstance\u001B[39m(mapped[\u001B[38;5;241m0\u001B[39m], ABCSeries):\n\u001B[0;32m   1512\u001B[0m     \u001B[38;5;66;03m# GH#43986 Need to do list(mapped) in order to get treated as nested\u001B[39;00m\n\u001B[0;32m   1513\u001B[0m     \u001B[38;5;66;03m#  See also GH#25959 regarding EA support\u001B[39;00m\n",
      "File \u001B[1;32m~\\Documents\\github\\forks\\.venv\\Lib\\site-packages\\pandas\\core\\base.py:921\u001B[0m, in \u001B[0;36mIndexOpsMixin._map_values\u001B[1;34m(self, mapper, na_action, convert)\u001B[0m\n\u001B[0;32m    919\u001B[0m     \u001B[38;5;28;01mreturn\u001B[39;00m arr\u001B[38;5;241m.\u001B[39mmap(mapper, na_action\u001B[38;5;241m=\u001B[39mna_action)\n\u001B[1;32m--> 921\u001B[0m \u001B[38;5;28;01mreturn\u001B[39;00m \u001B[43malgorithms\u001B[49m\u001B[38;5;241;43m.\u001B[39;49m\u001B[43mmap_array\u001B[49m\u001B[43m(\u001B[49m\u001B[43marr\u001B[49m\u001B[43m,\u001B[49m\u001B[43m \u001B[49m\u001B[43mmapper\u001B[49m\u001B[43m,\u001B[49m\u001B[43m \u001B[49m\u001B[43mna_action\u001B[49m\u001B[38;5;241;43m=\u001B[39;49m\u001B[43mna_action\u001B[49m\u001B[43m,\u001B[49m\u001B[43m \u001B[49m\u001B[43mconvert\u001B[49m\u001B[38;5;241;43m=\u001B[39;49m\u001B[43mconvert\u001B[49m\u001B[43m)\u001B[49m\n",
      "File \u001B[1;32m~\\Documents\\github\\forks\\.venv\\Lib\\site-packages\\pandas\\core\\algorithms.py:1743\u001B[0m, in \u001B[0;36mmap_array\u001B[1;34m(arr, mapper, na_action, convert)\u001B[0m\n\u001B[0;32m   1742\u001B[0m \u001B[38;5;28;01mif\u001B[39;00m na_action \u001B[38;5;129;01mis\u001B[39;00m \u001B[38;5;28;01mNone\u001B[39;00m:\n\u001B[1;32m-> 1743\u001B[0m     \u001B[38;5;28;01mreturn\u001B[39;00m \u001B[43mlib\u001B[49m\u001B[38;5;241;43m.\u001B[39;49m\u001B[43mmap_infer\u001B[49m\u001B[43m(\u001B[49m\u001B[43mvalues\u001B[49m\u001B[43m,\u001B[49m\u001B[43m \u001B[49m\u001B[43mmapper\u001B[49m\u001B[43m,\u001B[49m\u001B[43m \u001B[49m\u001B[43mconvert\u001B[49m\u001B[38;5;241;43m=\u001B[39;49m\u001B[43mconvert\u001B[49m\u001B[43m)\u001B[49m\n\u001B[0;32m   1744\u001B[0m \u001B[38;5;28;01melse\u001B[39;00m:\n",
      "File \u001B[1;32mlib.pyx:2972\u001B[0m, in \u001B[0;36mpandas._libs.lib.map_infer\u001B[1;34m()\u001B[0m\n",
      "File \u001B[1;32m~\\Documents\\github\\forks\\thetadata\\parsing.py:224\u001B[0m, in \u001B[0;36mms_to_time\u001B[1;34m(ms)\u001B[0m\n\u001B[0;32m    223\u001B[0m seconds \u001B[38;5;241m=\u001B[39m seconds \u001B[38;5;241m%\u001B[39m \u001B[38;5;241m60\u001B[39m\n\u001B[1;32m--> 224\u001B[0m \u001B[38;5;28;01mreturn\u001B[39;00m \u001B[43mdt_time\u001B[49m\u001B[43m(\u001B[49m\u001B[43mhour\u001B[49m\u001B[38;5;241;43m=\u001B[39;49m\u001B[43mhours\u001B[49m\u001B[43m,\u001B[49m\u001B[43m \u001B[49m\u001B[43mminute\u001B[49m\u001B[38;5;241;43m=\u001B[39;49m\u001B[43mminutes\u001B[49m\u001B[43m,\u001B[49m\u001B[43m \u001B[49m\u001B[43msecond\u001B[49m\u001B[38;5;241;43m=\u001B[39;49m\u001B[43mseconds\u001B[49m\u001B[43m,\u001B[49m\u001B[43m \u001B[49m\u001B[43mmicrosecond\u001B[49m\u001B[38;5;241;43m=\u001B[39;49m\u001B[43mmicroseconds\u001B[49m\u001B[43m)\u001B[49m\n",
      "\u001B[1;31mTypeError\u001B[0m: 'float' object cannot be interpreted as an integer",
      "\nDuring handling of the above exception, another exception occurred:\n",
      "\u001B[1;31mResponseParseError\u001B[0m                        Traceback (most recent call last)",
      "Cell \u001B[1;32mIn[4], line 2\u001B[0m\n\u001B[0;32m      1\u001B[0m \u001B[38;5;28;01mwith\u001B[39;00m client\u001B[38;5;241m.\u001B[39mconnect():\n\u001B[1;32m----> 2\u001B[0m     quotes \u001B[38;5;241m=\u001B[39m \u001B[43mclient\u001B[49m\u001B[38;5;241;43m.\u001B[39;49m\u001B[43mbulk_quote_at_time\u001B[49m\u001B[43m(\u001B[49m\n\u001B[0;32m      3\u001B[0m \u001B[43m        \u001B[49m\u001B[43mstart_date\u001B[49m\u001B[38;5;241;43m=\u001B[39;49m\u001B[38;5;241;43m20241021\u001B[39;49m\u001B[43m,\u001B[49m\n\u001B[0;32m      4\u001B[0m \u001B[43m        \u001B[49m\u001B[43mend_date\u001B[49m\u001B[38;5;241;43m=\u001B[39;49m\u001B[38;5;241;43m20241024\u001B[39;49m\u001B[43m,\u001B[49m\n\u001B[0;32m      5\u001B[0m \u001B[43m        \u001B[49m\u001B[43mexp\u001B[49m\u001B[38;5;241;43m=\u001B[39;49m\u001B[38;5;241;43m20241024\u001B[39;49m\u001B[43m,\u001B[49m\n\u001B[0;32m      6\u001B[0m \u001B[43m        \u001B[49m\u001B[43mivl\u001B[49m\u001B[38;5;241;43m=\u001B[39;49m\u001B[38;5;124;43m\"\u001B[39;49m\u001B[38;5;124;43m10:30\u001B[39;49m\u001B[38;5;124;43m\"\u001B[39;49m\u001B[43m,\u001B[49m\n\u001B[0;32m      7\u001B[0m \u001B[43m        \u001B[49m\u001B[43mroot\u001B[49m\u001B[38;5;241;43m=\u001B[39;49m\u001B[38;5;124;43m\"\u001B[39;49m\u001B[38;5;124;43mSPXW\u001B[39;49m\u001B[38;5;124;43m\"\u001B[39;49m\u001B[43m,\u001B[49m\n\u001B[0;32m      8\u001B[0m \u001B[43m    \u001B[49m\u001B[43m)\u001B[49m\n\u001B[0;32m      9\u001B[0m quotes\n",
      "File \u001B[1;32m~\\Documents\\github\\forks\\thetadata\\client.py:619\u001B[0m, in \u001B[0;36mThetaClient.bulk_quote_at_time\u001B[1;34m(self, start_date, end_date, ivl, root, exp, rth)\u001B[0m\n\u001B[0;32m    609\u001B[0m params \u001B[38;5;241m=\u001B[39m {\n\u001B[0;32m    610\u001B[0m     \u001B[38;5;124m\"\u001B[39m\u001B[38;5;124mstart_date\u001B[39m\u001B[38;5;124m\"\u001B[39m: start_date,\n\u001B[0;32m    611\u001B[0m     \u001B[38;5;124m\"\u001B[39m\u001B[38;5;124mend_date\u001B[39m\u001B[38;5;124m\"\u001B[39m: end_date,\n\u001B[1;32m   (...)\u001B[0m\n\u001B[0;32m    615\u001B[0m     \u001B[38;5;124m\"\u001B[39m\u001B[38;5;124mrth\u001B[39m\u001B[38;5;124m\"\u001B[39m: rth\n\u001B[0;32m    616\u001B[0m }\n\u001B[0;32m    618\u001B[0m res \u001B[38;5;241m=\u001B[39m httpx\u001B[38;5;241m.\u001B[39mget(url, params\u001B[38;5;241m=\u001B[39mparams, timeout\u001B[38;5;241m=\u001B[39m\u001B[38;5;241m120\u001B[39m)\u001B[38;5;241m.\u001B[39mraise_for_status()\u001B[38;5;241m.\u001B[39mjson()\n\u001B[1;32m--> 619\u001B[0m df \u001B[38;5;241m=\u001B[39m \u001B[43mparse_trade\u001B[49m\u001B[43m(\u001B[49m\u001B[43mres\u001B[49m\u001B[38;5;241;43m=\u001B[39;49m\u001B[43mres\u001B[49m\u001B[43m)\u001B[49m\n\u001B[0;32m    620\u001B[0m \u001B[38;5;28;01mreturn\u001B[39;00m df\n",
      "File \u001B[1;32m~\\Documents\\github\\forks\\thetadata\\parsing.py:212\u001B[0m, in \u001B[0;36mparse_trade\u001B[1;34m(res)\u001B[0m\n\u001B[0;32m    209\u001B[0m     \u001B[38;5;28;01mreturn\u001B[39;00m df\n\u001B[0;32m    211\u001B[0m \u001B[38;5;28;01mexcept\u001B[39;00m \u001B[38;5;167;01mException\u001B[39;00m \u001B[38;5;28;01mas\u001B[39;00m e:\n\u001B[1;32m--> 212\u001B[0m     \u001B[38;5;28;01mraise\u001B[39;00m ResponseParseError(\u001B[38;5;124mf\u001B[39m\u001B[38;5;124m'\u001B[39m\u001B[38;5;124mFailed to parse list for request. Please send this error to support. \u001B[39m\u001B[38;5;132;01m{\u001B[39;00me\u001B[38;5;132;01m}\u001B[39;00m\u001B[38;5;124m'\u001B[39m)\n",
      "\u001B[1;31mResponseParseError\u001B[0m: Failed to parse list for request. Please send this error to support. 'float' object cannot be interpreted as an integer"
     ]
    }
   ],
   "execution_count": 4
  },
  {
   "metadata": {
    "ExecuteTime": {
     "end_time": "2024-10-25T19:36:21.007035Z",
     "start_time": "2024-10-25T19:36:14.781349Z"
    }
   },
   "cell_type": "code",
   "source": [
    "trades = client.bulk_trade_at_time(\n",
    "    start_date=20241021,\n",
    "    end_date=20241024,\n",
    "    exp=20241024,\n",
    "    ivl=\"15:30:30\",\n",
    "    root=\"SPXW\",\n",
    ")\n",
    "trades"
   ],
   "id": "b6a8cd3c622ad11",
   "outputs": [
    {
     "name": "stdout",
     "output_type": "stream",
     "text": [
      "     ms_of_day  sequence  ext_condition1  ext_condition2  ext_condition3  \\\n",
      "0          NaN       NaN             NaN             NaN             NaN   \n",
      "1          NaN       NaN             NaN             NaN             NaN   \n",
      "2          NaN       NaN             NaN             NaN             NaN   \n",
      "3          NaN       NaN             NaN             NaN             NaN   \n",
      "4          NaN       NaN             NaN             NaN             NaN   \n",
      "..         ...       ...             ...             ...             ...   \n",
      "266        NaN       NaN             NaN             NaN             NaN   \n",
      "267        NaN       NaN             NaN             NaN             NaN   \n",
      "268        NaN       NaN             NaN             NaN             NaN   \n",
      "269        NaN       NaN             NaN             NaN             NaN   \n",
      "270        NaN       NaN             NaN             NaN             NaN   \n",
      "\n",
      "     ext_condition4  condition  size  exchange  price  condition_flags  \\\n",
      "0               NaN        NaN   NaN       NaN    NaN              NaN   \n",
      "1               NaN        NaN   NaN       NaN    NaN              NaN   \n",
      "2               NaN        NaN   NaN       NaN    NaN              NaN   \n",
      "3               NaN        NaN   NaN       NaN    NaN              NaN   \n",
      "4               NaN        NaN   NaN       NaN    NaN              NaN   \n",
      "..              ...        ...   ...       ...    ...              ...   \n",
      "266             NaN        NaN   NaN       NaN    NaN              NaN   \n",
      "267             NaN        NaN   NaN       NaN    NaN              NaN   \n",
      "268             NaN        NaN   NaN       NaN    NaN              NaN   \n",
      "269             NaN        NaN   NaN       NaN    NaN              NaN   \n",
      "270             NaN        NaN   NaN       NaN    NaN              NaN   \n",
      "\n",
      "     price_flags  volume_type  records_back  date  \n",
      "0            NaN          NaN           NaN   NaN  \n",
      "1            NaN          NaN           NaN   NaN  \n",
      "2            NaN          NaN           NaN   NaN  \n",
      "3            NaN          NaN           NaN   NaN  \n",
      "4            NaN          NaN           NaN   NaN  \n",
      "..           ...          ...           ...   ...  \n",
      "266          NaN          NaN           NaN   NaN  \n",
      "267          NaN          NaN           NaN   NaN  \n",
      "268          NaN          NaN           NaN   NaN  \n",
      "269          NaN          NaN           NaN   NaN  \n",
      "270          NaN          NaN           NaN   NaN  \n",
      "\n",
      "[271 rows x 15 columns]\n",
      "nan\n"
     ]
    },
    {
     "ename": "ResponseParseError",
     "evalue": "Failed to parse list for request. Please send this error to support. 'float' object cannot be interpreted as an integer",
     "output_type": "error",
     "traceback": [
      "\u001B[1;31m---------------------------------------------------------------------------\u001B[0m",
      "\u001B[1;31mTypeError\u001B[0m                                 Traceback (most recent call last)",
      "File \u001B[1;32m~\\Documents\\github\\forks\\thetadata\\parsing.py:192\u001B[0m, in \u001B[0;36mparse_trade\u001B[1;34m(res)\u001B[0m\n\u001B[0;32m    191\u001B[0m df[\u001B[38;5;124m'\u001B[39m\u001B[38;5;124mdate\u001B[39m\u001B[38;5;124m'\u001B[39m] \u001B[38;5;241m=\u001B[39m pd\u001B[38;5;241m.\u001B[39mto_datetime(df[\u001B[38;5;124m'\u001B[39m\u001B[38;5;124mdate\u001B[39m\u001B[38;5;124m'\u001B[39m], \u001B[38;5;28mformat\u001B[39m\u001B[38;5;241m=\u001B[39m\u001B[38;5;124m\"\u001B[39m\u001B[38;5;124m%\u001B[39m\u001B[38;5;124mY\u001B[39m\u001B[38;5;124m%\u001B[39m\u001B[38;5;124mm\u001B[39m\u001B[38;5;132;01m%d\u001B[39;00m\u001B[38;5;124m\"\u001B[39m)\n\u001B[1;32m--> 192\u001B[0m df[\u001B[38;5;124m'\u001B[39m\u001B[38;5;124mms_of_day\u001B[39m\u001B[38;5;124m'\u001B[39m] \u001B[38;5;241m=\u001B[39m \u001B[43mdf\u001B[49m\u001B[43m[\u001B[49m\u001B[38;5;124;43m'\u001B[39;49m\u001B[38;5;124;43mms_of_day\u001B[39;49m\u001B[38;5;124;43m'\u001B[39;49m\u001B[43m]\u001B[49m\u001B[38;5;241;43m.\u001B[39;49m\u001B[43mapply\u001B[49m\u001B[43m(\u001B[49m\u001B[43mms_to_time\u001B[49m\u001B[43m)\u001B[49m\n\u001B[0;32m    193\u001B[0m df[\u001B[38;5;124m'\u001B[39m\u001B[38;5;124mtrade_datetime\u001B[39m\u001B[38;5;124m'\u001B[39m] \u001B[38;5;241m=\u001B[39m df\u001B[38;5;241m.\u001B[39mapply(\n\u001B[0;32m    194\u001B[0m     \u001B[38;5;28;01mlambda\u001B[39;00m row: datetime\u001B[38;5;241m.\u001B[39mcombine(row[\u001B[38;5;124m'\u001B[39m\u001B[38;5;124mdate\u001B[39m\u001B[38;5;124m'\u001B[39m], row[\u001B[38;5;124m'\u001B[39m\u001B[38;5;124mms_of_day\u001B[39m\u001B[38;5;124m'\u001B[39m])\u001B[38;5;241m.\u001B[39mreplace(\n\u001B[0;32m    195\u001B[0m         tzinfo\u001B[38;5;241m=\u001B[39mZoneInfo(\u001B[38;5;124m\"\u001B[39m\u001B[38;5;124mUS/Eastern\u001B[39m\u001B[38;5;124m\"\u001B[39m)\n\u001B[0;32m    196\u001B[0m     ),\n\u001B[0;32m    197\u001B[0m     axis\u001B[38;5;241m=\u001B[39m\u001B[38;5;241m1\u001B[39m\n\u001B[0;32m    198\u001B[0m )\n",
      "File \u001B[1;32m~\\Documents\\github\\forks\\.venv\\Lib\\site-packages\\pandas\\core\\series.py:4924\u001B[0m, in \u001B[0;36mSeries.apply\u001B[1;34m(self, func, convert_dtype, args, by_row, **kwargs)\u001B[0m\n\u001B[0;32m   4798\u001B[0m \u001B[38;5;250m\u001B[39m\u001B[38;5;124;03m\"\"\"\u001B[39;00m\n\u001B[0;32m   4799\u001B[0m \u001B[38;5;124;03mInvoke function on values of Series.\u001B[39;00m\n\u001B[0;32m   4800\u001B[0m \n\u001B[1;32m   (...)\u001B[0m\n\u001B[0;32m   4915\u001B[0m \u001B[38;5;124;03mdtype: float64\u001B[39;00m\n\u001B[0;32m   4916\u001B[0m \u001B[38;5;124;03m\"\"\"\u001B[39;00m\n\u001B[0;32m   4917\u001B[0m \u001B[38;5;28;01mreturn\u001B[39;00m \u001B[43mSeriesApply\u001B[49m\u001B[43m(\u001B[49m\n\u001B[0;32m   4918\u001B[0m \u001B[43m    \u001B[49m\u001B[38;5;28;43mself\u001B[39;49m\u001B[43m,\u001B[49m\n\u001B[0;32m   4919\u001B[0m \u001B[43m    \u001B[49m\u001B[43mfunc\u001B[49m\u001B[43m,\u001B[49m\n\u001B[0;32m   4920\u001B[0m \u001B[43m    \u001B[49m\u001B[43mconvert_dtype\u001B[49m\u001B[38;5;241;43m=\u001B[39;49m\u001B[43mconvert_dtype\u001B[49m\u001B[43m,\u001B[49m\n\u001B[0;32m   4921\u001B[0m \u001B[43m    \u001B[49m\u001B[43mby_row\u001B[49m\u001B[38;5;241;43m=\u001B[39;49m\u001B[43mby_row\u001B[49m\u001B[43m,\u001B[49m\n\u001B[0;32m   4922\u001B[0m \u001B[43m    \u001B[49m\u001B[43margs\u001B[49m\u001B[38;5;241;43m=\u001B[39;49m\u001B[43margs\u001B[49m\u001B[43m,\u001B[49m\n\u001B[0;32m   4923\u001B[0m \u001B[43m    \u001B[49m\u001B[43mkwargs\u001B[49m\u001B[38;5;241;43m=\u001B[39;49m\u001B[43mkwargs\u001B[49m\u001B[43m,\u001B[49m\n\u001B[1;32m-> 4924\u001B[0m \u001B[43m\u001B[49m\u001B[43m)\u001B[49m\u001B[38;5;241;43m.\u001B[39;49m\u001B[43mapply\u001B[49m\u001B[43m(\u001B[49m\u001B[43m)\u001B[49m\n",
      "File \u001B[1;32m~\\Documents\\github\\forks\\.venv\\Lib\\site-packages\\pandas\\core\\apply.py:1427\u001B[0m, in \u001B[0;36mSeriesApply.apply\u001B[1;34m(self)\u001B[0m\n\u001B[0;32m   1426\u001B[0m \u001B[38;5;66;03m# self.func is Callable\u001B[39;00m\n\u001B[1;32m-> 1427\u001B[0m \u001B[38;5;28;01mreturn\u001B[39;00m \u001B[38;5;28;43mself\u001B[39;49m\u001B[38;5;241;43m.\u001B[39;49m\u001B[43mapply_standard\u001B[49m\u001B[43m(\u001B[49m\u001B[43m)\u001B[49m\n",
      "File \u001B[1;32m~\\Documents\\github\\forks\\.venv\\Lib\\site-packages\\pandas\\core\\apply.py:1507\u001B[0m, in \u001B[0;36mSeriesApply.apply_standard\u001B[1;34m(self)\u001B[0m\n\u001B[0;32m   1506\u001B[0m action \u001B[38;5;241m=\u001B[39m \u001B[38;5;124m\"\u001B[39m\u001B[38;5;124mignore\u001B[39m\u001B[38;5;124m\"\u001B[39m \u001B[38;5;28;01mif\u001B[39;00m \u001B[38;5;28misinstance\u001B[39m(obj\u001B[38;5;241m.\u001B[39mdtype, CategoricalDtype) \u001B[38;5;28;01melse\u001B[39;00m \u001B[38;5;28;01mNone\u001B[39;00m\n\u001B[1;32m-> 1507\u001B[0m mapped \u001B[38;5;241m=\u001B[39m \u001B[43mobj\u001B[49m\u001B[38;5;241;43m.\u001B[39;49m\u001B[43m_map_values\u001B[49m\u001B[43m(\u001B[49m\n\u001B[0;32m   1508\u001B[0m \u001B[43m    \u001B[49m\u001B[43mmapper\u001B[49m\u001B[38;5;241;43m=\u001B[39;49m\u001B[43mcurried\u001B[49m\u001B[43m,\u001B[49m\u001B[43m \u001B[49m\u001B[43mna_action\u001B[49m\u001B[38;5;241;43m=\u001B[39;49m\u001B[43maction\u001B[49m\u001B[43m,\u001B[49m\u001B[43m \u001B[49m\u001B[43mconvert\u001B[49m\u001B[38;5;241;43m=\u001B[39;49m\u001B[38;5;28;43mself\u001B[39;49m\u001B[38;5;241;43m.\u001B[39;49m\u001B[43mconvert_dtype\u001B[49m\n\u001B[0;32m   1509\u001B[0m \u001B[43m\u001B[49m\u001B[43m)\u001B[49m\n\u001B[0;32m   1511\u001B[0m \u001B[38;5;28;01mif\u001B[39;00m \u001B[38;5;28mlen\u001B[39m(mapped) \u001B[38;5;129;01mand\u001B[39;00m \u001B[38;5;28misinstance\u001B[39m(mapped[\u001B[38;5;241m0\u001B[39m], ABCSeries):\n\u001B[0;32m   1512\u001B[0m     \u001B[38;5;66;03m# GH#43986 Need to do list(mapped) in order to get treated as nested\u001B[39;00m\n\u001B[0;32m   1513\u001B[0m     \u001B[38;5;66;03m#  See also GH#25959 regarding EA support\u001B[39;00m\n",
      "File \u001B[1;32m~\\Documents\\github\\forks\\.venv\\Lib\\site-packages\\pandas\\core\\base.py:921\u001B[0m, in \u001B[0;36mIndexOpsMixin._map_values\u001B[1;34m(self, mapper, na_action, convert)\u001B[0m\n\u001B[0;32m    919\u001B[0m     \u001B[38;5;28;01mreturn\u001B[39;00m arr\u001B[38;5;241m.\u001B[39mmap(mapper, na_action\u001B[38;5;241m=\u001B[39mna_action)\n\u001B[1;32m--> 921\u001B[0m \u001B[38;5;28;01mreturn\u001B[39;00m \u001B[43malgorithms\u001B[49m\u001B[38;5;241;43m.\u001B[39;49m\u001B[43mmap_array\u001B[49m\u001B[43m(\u001B[49m\u001B[43marr\u001B[49m\u001B[43m,\u001B[49m\u001B[43m \u001B[49m\u001B[43mmapper\u001B[49m\u001B[43m,\u001B[49m\u001B[43m \u001B[49m\u001B[43mna_action\u001B[49m\u001B[38;5;241;43m=\u001B[39;49m\u001B[43mna_action\u001B[49m\u001B[43m,\u001B[49m\u001B[43m \u001B[49m\u001B[43mconvert\u001B[49m\u001B[38;5;241;43m=\u001B[39;49m\u001B[43mconvert\u001B[49m\u001B[43m)\u001B[49m\n",
      "File \u001B[1;32m~\\Documents\\github\\forks\\.venv\\Lib\\site-packages\\pandas\\core\\algorithms.py:1743\u001B[0m, in \u001B[0;36mmap_array\u001B[1;34m(arr, mapper, na_action, convert)\u001B[0m\n\u001B[0;32m   1742\u001B[0m \u001B[38;5;28;01mif\u001B[39;00m na_action \u001B[38;5;129;01mis\u001B[39;00m \u001B[38;5;28;01mNone\u001B[39;00m:\n\u001B[1;32m-> 1743\u001B[0m     \u001B[38;5;28;01mreturn\u001B[39;00m \u001B[43mlib\u001B[49m\u001B[38;5;241;43m.\u001B[39;49m\u001B[43mmap_infer\u001B[49m\u001B[43m(\u001B[49m\u001B[43mvalues\u001B[49m\u001B[43m,\u001B[49m\u001B[43m \u001B[49m\u001B[43mmapper\u001B[49m\u001B[43m,\u001B[49m\u001B[43m \u001B[49m\u001B[43mconvert\u001B[49m\u001B[38;5;241;43m=\u001B[39;49m\u001B[43mconvert\u001B[49m\u001B[43m)\u001B[49m\n\u001B[0;32m   1744\u001B[0m \u001B[38;5;28;01melse\u001B[39;00m:\n",
      "File \u001B[1;32mlib.pyx:2972\u001B[0m, in \u001B[0;36mpandas._libs.lib.map_infer\u001B[1;34m()\u001B[0m\n",
      "File \u001B[1;32m~\\Documents\\github\\forks\\thetadata\\parsing.py:224\u001B[0m, in \u001B[0;36mms_to_time\u001B[1;34m(ms)\u001B[0m\n\u001B[0;32m    223\u001B[0m seconds \u001B[38;5;241m=\u001B[39m seconds \u001B[38;5;241m%\u001B[39m \u001B[38;5;241m60\u001B[39m\n\u001B[1;32m--> 224\u001B[0m \u001B[38;5;28;01mreturn\u001B[39;00m \u001B[43mdt_time\u001B[49m\u001B[43m(\u001B[49m\u001B[43mhour\u001B[49m\u001B[38;5;241;43m=\u001B[39;49m\u001B[43mhours\u001B[49m\u001B[43m,\u001B[49m\u001B[43m \u001B[49m\u001B[43mminute\u001B[49m\u001B[38;5;241;43m=\u001B[39;49m\u001B[43mminutes\u001B[49m\u001B[43m,\u001B[49m\u001B[43m \u001B[49m\u001B[43msecond\u001B[49m\u001B[38;5;241;43m=\u001B[39;49m\u001B[43mseconds\u001B[49m\u001B[43m,\u001B[49m\u001B[43m \u001B[49m\u001B[43mmicrosecond\u001B[49m\u001B[38;5;241;43m=\u001B[39;49m\u001B[43mmicroseconds\u001B[49m\u001B[43m)\u001B[49m\n",
      "\u001B[1;31mTypeError\u001B[0m: 'float' object cannot be interpreted as an integer",
      "\nDuring handling of the above exception, another exception occurred:\n",
      "\u001B[1;31mResponseParseError\u001B[0m                        Traceback (most recent call last)",
      "Cell \u001B[1;32mIn[5], line 2\u001B[0m\n\u001B[0;32m      1\u001B[0m \u001B[38;5;28;01mwith\u001B[39;00m client\u001B[38;5;241m.\u001B[39mconnect():\n\u001B[1;32m----> 2\u001B[0m     trades \u001B[38;5;241m=\u001B[39m \u001B[43mclient\u001B[49m\u001B[38;5;241;43m.\u001B[39;49m\u001B[43mbulk_trade_at_time\u001B[49m\u001B[43m(\u001B[49m\n\u001B[0;32m      3\u001B[0m \u001B[43m        \u001B[49m\u001B[43mstart_date\u001B[49m\u001B[38;5;241;43m=\u001B[39;49m\u001B[38;5;241;43m20241021\u001B[39;49m\u001B[43m,\u001B[49m\n\u001B[0;32m      4\u001B[0m \u001B[43m        \u001B[49m\u001B[43mend_date\u001B[49m\u001B[38;5;241;43m=\u001B[39;49m\u001B[38;5;241;43m20241024\u001B[39;49m\u001B[43m,\u001B[49m\n\u001B[0;32m      5\u001B[0m \u001B[43m        \u001B[49m\u001B[43mexp\u001B[49m\u001B[38;5;241;43m=\u001B[39;49m\u001B[38;5;241;43m20241024\u001B[39;49m\u001B[43m,\u001B[49m\n\u001B[0;32m      6\u001B[0m \u001B[43m        \u001B[49m\u001B[43mivl\u001B[49m\u001B[38;5;241;43m=\u001B[39;49m\u001B[38;5;124;43m\"\u001B[39;49m\u001B[38;5;124;43m15:30:30\u001B[39;49m\u001B[38;5;124;43m\"\u001B[39;49m\u001B[43m,\u001B[49m\n\u001B[0;32m      7\u001B[0m \u001B[43m        \u001B[49m\u001B[43mroot\u001B[49m\u001B[38;5;241;43m=\u001B[39;49m\u001B[38;5;124;43m\"\u001B[39;49m\u001B[38;5;124;43mSPXW\u001B[39;49m\u001B[38;5;124;43m\"\u001B[39;49m\u001B[43m,\u001B[49m\n\u001B[0;32m      8\u001B[0m \u001B[43m    \u001B[49m\u001B[43m)\u001B[49m\n\u001B[0;32m      9\u001B[0m trades\n",
      "File \u001B[1;32m~\\Documents\\github\\forks\\thetadata\\client.py:643\u001B[0m, in \u001B[0;36mThetaClient.bulk_trade_at_time\u001B[1;34m(self, start_date, end_date, ivl, root, exp, rth)\u001B[0m\n\u001B[0;32m    633\u001B[0m params \u001B[38;5;241m=\u001B[39m {\n\u001B[0;32m    634\u001B[0m     \u001B[38;5;124m\"\u001B[39m\u001B[38;5;124mstart_date\u001B[39m\u001B[38;5;124m\"\u001B[39m: start_date,\n\u001B[0;32m    635\u001B[0m     \u001B[38;5;124m\"\u001B[39m\u001B[38;5;124mend_date\u001B[39m\u001B[38;5;124m\"\u001B[39m: end_date,\n\u001B[1;32m   (...)\u001B[0m\n\u001B[0;32m    639\u001B[0m     \u001B[38;5;124m\"\u001B[39m\u001B[38;5;124mrth\u001B[39m\u001B[38;5;124m\"\u001B[39m: rth\n\u001B[0;32m    640\u001B[0m }\n\u001B[0;32m    642\u001B[0m res \u001B[38;5;241m=\u001B[39m httpx\u001B[38;5;241m.\u001B[39mget(url, params\u001B[38;5;241m=\u001B[39mparams, timeout\u001B[38;5;241m=\u001B[39m\u001B[38;5;241m120\u001B[39m)\u001B[38;5;241m.\u001B[39mraise_for_status()\u001B[38;5;241m.\u001B[39mjson()\n\u001B[1;32m--> 643\u001B[0m df \u001B[38;5;241m=\u001B[39m \u001B[43mparse_trade\u001B[49m\u001B[43m(\u001B[49m\u001B[43mres\u001B[49m\u001B[38;5;241;43m=\u001B[39;49m\u001B[43mres\u001B[49m\u001B[43m)\u001B[49m\n\u001B[0;32m    644\u001B[0m \u001B[38;5;28;01mreturn\u001B[39;00m df\n",
      "File \u001B[1;32m~\\Documents\\github\\forks\\thetadata\\parsing.py:212\u001B[0m, in \u001B[0;36mparse_trade\u001B[1;34m(res)\u001B[0m\n\u001B[0;32m    209\u001B[0m     \u001B[38;5;28;01mreturn\u001B[39;00m df\n\u001B[0;32m    211\u001B[0m \u001B[38;5;28;01mexcept\u001B[39;00m \u001B[38;5;167;01mException\u001B[39;00m \u001B[38;5;28;01mas\u001B[39;00m e:\n\u001B[1;32m--> 212\u001B[0m     \u001B[38;5;28;01mraise\u001B[39;00m ResponseParseError(\u001B[38;5;124mf\u001B[39m\u001B[38;5;124m'\u001B[39m\u001B[38;5;124mFailed to parse list for request. Please send this error to support. \u001B[39m\u001B[38;5;132;01m{\u001B[39;00me\u001B[38;5;132;01m}\u001B[39;00m\u001B[38;5;124m'\u001B[39m)\n",
      "\u001B[1;31mResponseParseError\u001B[0m: Failed to parse list for request. Please send this error to support. 'float' object cannot be interpreted as an integer"
     ]
    }
   ],
   "execution_count": 5
  },
  {
   "metadata": {},
   "cell_type": "code",
   "source": "",
   "id": "a775eb184f9a8522",
   "outputs": [],
   "execution_count": null
  },
  {
   "metadata": {},
   "cell_type": "code",
   "outputs": [],
   "execution_count": null,
   "source": [
    "client.kill()\n",
    "client.status()"
   ],
   "id": "1ba55e6f530b2c5e"
  }
 ],
 "metadata": {
  "kernelspec": {
   "display_name": "Python 3",
   "language": "python",
   "name": "python3"
  },
  "language_info": {
   "codemirror_mode": {
    "name": "ipython",
    "version": 2
   },
   "file_extension": ".py",
   "mimetype": "text/x-python",
   "name": "python",
   "nbconvert_exporter": "python",
   "pygments_lexer": "ipython2",
   "version": "2.7.6"
  }
 },
 "nbformat": 4,
 "nbformat_minor": 5
}
