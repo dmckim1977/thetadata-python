{
 "cells": [
  {
   "metadata": {},
   "cell_type": "markdown",
   "source": [
    "# List endpoints\n",
    "\n",
    "[Docs](https://http-docs.thetadata.us/docs/theta-data-rest-api-v2/xfvx6hws9suhm-list-roots-expirations-strikes-dates)"
   ],
   "id": "bc3f437683876a08"
  },
  {
   "metadata": {
    "ExecuteTime": {
     "end_time": "2024-12-08T17:31:48.184690Z",
     "start_time": "2024-12-08T17:31:46.885499Z"
    }
   },
   "cell_type": "code",
   "source": [
    "import os\n",
    "import time\n",
    "\n",
    "import thetadata\n",
    "from thetadata import ThetaClient\n",
    "from dotenv import load_dotenv"
   ],
   "id": "a00fc07baa8b8f77",
   "outputs": [],
   "execution_count": 1
  },
  {
   "metadata": {
    "ExecuteTime": {
     "end_time": "2024-12-08T17:31:48.193752Z",
     "start_time": "2024-12-08T17:31:48.186698Z"
    }
   },
   "cell_type": "code",
   "source": [
    "# Get environment variables in .env in project root\n",
    "load_dotenv()\n",
    "\n",
    "USERNAME=os.getenv('THETAUSER')\n",
    "PASSWORD=os.getenv('THETAPASS')"
   ],
   "id": "46d6a95baf238dde",
   "outputs": [],
   "execution_count": 2
  },
  {
   "metadata": {
    "ExecuteTime": {
     "end_time": "2024-12-08T17:32:05.287618Z",
     "start_time": "2024-12-08T17:31:48.195754Z"
    }
   },
   "cell_type": "code",
   "source": "client = ThetaClient(username=USERNAME, passwd=PASSWORD)",
   "id": "2459c16741bb14b1",
   "outputs": [],
   "execution_count": 3
  },
  {
   "metadata": {
    "ExecuteTime": {
     "end_time": "2024-12-08T17:31:28.592440Z",
     "start_time": "2024-12-08T17:31:28.125529Z"
    }
   },
   "cell_type": "code",
   "source": "client.status()",
   "id": "cf6c12789ce06eb9",
   "outputs": [
    {
     "data": {
      "text/plain": [
       "True"
      ]
     },
     "execution_count": 4,
     "metadata": {},
     "output_type": "execute_result"
    }
   ],
   "execution_count": 4
  },
  {
   "metadata": {
    "ExecuteTime": {
     "end_time": "2024-12-08T17:31:29.199144Z",
     "start_time": "2024-12-08T17:31:28.593902Z"
    }
   },
   "cell_type": "code",
   "source": [
    "roots = client.roots(security_type=\"option\")\n",
    "roots"
   ],
   "id": "af1a3e16710a9dc",
   "outputs": [
    {
     "data": {
      "text/plain": [
       "0        1BXSL\n",
       "1        1CORZ\n",
       "2        1INVH\n",
       "3        1LNCO\n",
       "4        1ZURA\n",
       "         ...  \n",
       "13933       ZZ\n",
       "13934      ZZK\n",
       "13935      ZZV\n",
       "13936      ZZZ\n",
       "13937     ZZZ1\n",
       "Name: roots, Length: 13938, dtype: object"
      ]
     },
     "execution_count": 5,
     "metadata": {},
     "output_type": "execute_result"
    }
   ],
   "execution_count": 5
  },
  {
   "metadata": {
    "ExecuteTime": {
     "end_time": "2024-12-08T17:32:07.695418Z",
     "start_time": "2024-12-08T17:32:06.606492Z"
    }
   },
   "cell_type": "code",
   "source": [
    "exps = client.expirations(root=\"SPXW\")\n",
    "exps"
   ],
   "id": "e15a1946fc51834d",
   "outputs": [
    {
     "ename": "ThetadataValidationError",
     "evalue": "Invalid request parameters or symbol\nDetails: {'params': {'root': 'LKJASDFOS'}, 'response': 'Nonexistent root symbol'}",
     "output_type": "error",
     "traceback": [
      "\u001B[1;31m---------------------------------------------------------------------------\u001B[0m",
      "\u001B[1;31mHTTPStatusError\u001B[0m                           Traceback (most recent call last)",
      "File \u001B[1;32m~\\Documents\\github\\forks\\thetadata\\client.py:625\u001B[0m, in \u001B[0;36mThetaClient._make_request\u001B[1;34m(self, url, params, model_response)\u001B[0m\n\u001B[0;32m    620\u001B[0m response \u001B[38;5;241m=\u001B[39m httpx\u001B[38;5;241m.\u001B[39mget(\n\u001B[0;32m    621\u001B[0m     url,\n\u001B[0;32m    622\u001B[0m     params\u001B[38;5;241m=\u001B[39mparams,\n\u001B[0;32m    623\u001B[0m     timeout\u001B[38;5;241m=\u001B[39m\u001B[38;5;28mself\u001B[39m\u001B[38;5;241m.\u001B[39mtimeout\n\u001B[0;32m    624\u001B[0m )\n\u001B[1;32m--> 625\u001B[0m \u001B[43mresponse\u001B[49m\u001B[38;5;241;43m.\u001B[39;49m\u001B[43mraise_for_status\u001B[49m\u001B[43m(\u001B[49m\u001B[43m)\u001B[49m\n\u001B[0;32m    626\u001B[0m data \u001B[38;5;241m=\u001B[39m response\u001B[38;5;241m.\u001B[39mjson()\n",
      "File \u001B[1;32m~\\Documents\\github\\forks\\.venv\\Lib\\site-packages\\httpx\\_models.py:763\u001B[0m, in \u001B[0;36mResponse.raise_for_status\u001B[1;34m(self)\u001B[0m\n\u001B[0;32m    762\u001B[0m message \u001B[38;5;241m=\u001B[39m message\u001B[38;5;241m.\u001B[39mformat(\u001B[38;5;28mself\u001B[39m, error_type\u001B[38;5;241m=\u001B[39merror_type)\n\u001B[1;32m--> 763\u001B[0m \u001B[38;5;28;01mraise\u001B[39;00m HTTPStatusError(message, request\u001B[38;5;241m=\u001B[39mrequest, response\u001B[38;5;241m=\u001B[39m\u001B[38;5;28mself\u001B[39m)\n",
      "\u001B[1;31mHTTPStatusError\u001B[0m: Client error '472 ' for url 'http://127.0.0.1:25510/v2/list/expirations?root=LKJASDFOS'\nFor more information check: https://developer.mozilla.org/en-US/docs/Web/HTTP/Status/472",
      "\nDuring handling of the above exception, another exception occurred:\n",
      "\u001B[1;31mThetadataValidationError\u001B[0m                  Traceback (most recent call last)",
      "Cell \u001B[1;32mIn[4], line 1\u001B[0m\n\u001B[1;32m----> 1\u001B[0m exps \u001B[38;5;241m=\u001B[39m \u001B[43mclient\u001B[49m\u001B[38;5;241;43m.\u001B[39;49m\u001B[43mexpirations\u001B[49m\u001B[43m(\u001B[49m\u001B[43mroot\u001B[49m\u001B[38;5;241;43m=\u001B[39;49m\u001B[38;5;124;43m\"\u001B[39;49m\u001B[38;5;124;43mLKJasdfOS\u001B[39;49m\u001B[38;5;124;43m\"\u001B[39;49m\u001B[43m)\u001B[49m\n\u001B[0;32m      2\u001B[0m exps\n",
      "File \u001B[1;32m~\\Documents\\github\\forks\\thetadata\\client.py:678\u001B[0m, in \u001B[0;36mThetaClient.expirations\u001B[1;34m(self, root)\u001B[0m\n\u001B[0;32m    675\u001B[0m     url \u001B[38;5;241m=\u001B[39m \u001B[38;5;124mf\u001B[39m\u001B[38;5;124m\"\u001B[39m\u001B[38;5;124mhttp://\u001B[39m\u001B[38;5;132;01m{\u001B[39;00m\u001B[38;5;28mself\u001B[39m\u001B[38;5;241m.\u001B[39mhost\u001B[38;5;132;01m}\u001B[39;00m\u001B[38;5;124m:\u001B[39m\u001B[38;5;132;01m{\u001B[39;00m\u001B[38;5;28mself\u001B[39m\u001B[38;5;241m.\u001B[39mport\u001B[38;5;132;01m}\u001B[39;00m\u001B[38;5;124m/v2/list/expirations\u001B[39m\u001B[38;5;124m\"\u001B[39m\n\u001B[0;32m    677\u001B[0m     \u001B[38;5;66;03m# Make request with error handling\u001B[39;00m\n\u001B[1;32m--> 678\u001B[0m     response \u001B[38;5;241m=\u001B[39m \u001B[38;5;28;43mself\u001B[39;49m\u001B[38;5;241;43m.\u001B[39;49m\u001B[43m_make_request\u001B[49m\u001B[43m(\u001B[49m\n\u001B[0;32m    679\u001B[0m \u001B[43m        \u001B[49m\u001B[43murl\u001B[49m\u001B[38;5;241;43m=\u001B[39;49m\u001B[43murl\u001B[49m\u001B[43m,\u001B[49m\n\u001B[0;32m    680\u001B[0m \u001B[43m        \u001B[49m\u001B[43mparams\u001B[49m\u001B[38;5;241;43m=\u001B[39;49m\u001B[43mparams\u001B[49m\u001B[43m,\u001B[49m\n\u001B[0;32m    681\u001B[0m \u001B[43m        \u001B[49m\u001B[43mmodel_response\u001B[49m\u001B[38;5;241;43m=\u001B[39;49m\u001B[43mExpirationsResponse\u001B[49m\n\u001B[0;32m    682\u001B[0m \u001B[43m    \u001B[49m\u001B[43m)\u001B[49m\n\u001B[0;32m    684\u001B[0m     \u001B[38;5;28;01mreturn\u001B[39;00m response\u001B[38;5;241m.\u001B[39mto_pandas()\n\u001B[0;32m    686\u001B[0m \u001B[38;5;28;01mexcept\u001B[39;00m ValidationError \u001B[38;5;28;01mas\u001B[39;00m e:\n",
      "File \u001B[1;32m~\\Documents\\github\\forks\\thetadata\\client.py:645\u001B[0m, in \u001B[0;36mThetaClient._make_request\u001B[1;34m(self, url, params, model_response)\u001B[0m\n\u001B[0;32m    639\u001B[0m     \u001B[38;5;28;01mraise\u001B[39;00m \u001B[38;5;167;01mConnectionError\u001B[39;00m(\n\u001B[0;32m    640\u001B[0m         \u001B[38;5;124m\"\u001B[39m\u001B[38;5;124mRequest timed out\u001B[39m\u001B[38;5;124m\"\u001B[39m,\n\u001B[0;32m    641\u001B[0m         host\u001B[38;5;241m=\u001B[39m\u001B[38;5;28mself\u001B[39m\u001B[38;5;241m.\u001B[39mhost,\n\u001B[0;32m    642\u001B[0m         port\u001B[38;5;241m=\u001B[39m\u001B[38;5;28mself\u001B[39m\u001B[38;5;241m.\u001B[39mport\n\u001B[0;32m    643\u001B[0m     ) \u001B[38;5;28;01mfrom\u001B[39;00m \u001B[38;5;21;01me\u001B[39;00m\n\u001B[0;32m    644\u001B[0m \u001B[38;5;28;01mexcept\u001B[39;00m httpx\u001B[38;5;241m.\u001B[39mHTTPError \u001B[38;5;28;01mas\u001B[39;00m e:\n\u001B[1;32m--> 645\u001B[0m     \u001B[38;5;28;43mself\u001B[39;49m\u001B[38;5;241;43m.\u001B[39;49m\u001B[43m_handle_http_error\u001B[49m\u001B[43m(\u001B[49m\u001B[43me\u001B[49m\u001B[43m,\u001B[49m\u001B[43m \u001B[49m\u001B[43mparams\u001B[49m\u001B[43m)\u001B[49m\n\u001B[0;32m    646\u001B[0m \u001B[38;5;28;01mexcept\u001B[39;00m \u001B[38;5;167;01mException\u001B[39;00m \u001B[38;5;28;01mas\u001B[39;00m e:\n\u001B[0;32m    647\u001B[0m     \u001B[38;5;28;01mraise\u001B[39;00m ThetadataError(\n\u001B[0;32m    648\u001B[0m         \u001B[38;5;124mf\u001B[39m\u001B[38;5;124m\"\u001B[39m\u001B[38;5;124mUnexpected error: \u001B[39m\u001B[38;5;132;01m{\u001B[39;00m\u001B[38;5;28mstr\u001B[39m(e)\u001B[38;5;132;01m}\u001B[39;00m\u001B[38;5;124m\"\u001B[39m,\n\u001B[0;32m    649\u001B[0m         {\u001B[38;5;124m\"\u001B[39m\u001B[38;5;124mtype\u001B[39m\u001B[38;5;124m\"\u001B[39m: \u001B[38;5;28mtype\u001B[39m(e)\u001B[38;5;241m.\u001B[39m\u001B[38;5;18m__name__\u001B[39m}\n\u001B[0;32m    650\u001B[0m     ) \u001B[38;5;28;01mfrom\u001B[39;00m \u001B[38;5;21;01me\u001B[39;00m\n",
      "File \u001B[1;32m~\\Documents\\github\\forks\\thetadata\\client.py:585\u001B[0m, in \u001B[0;36mThetaClient._handle_http_error\u001B[1;34m(self, error, params)\u001B[0m\n\u001B[0;32m    580\u001B[0m     \u001B[38;5;28;01mraise\u001B[39;00m RateLimitError(\n\u001B[0;32m    581\u001B[0m         \u001B[38;5;124m\"\u001B[39m\u001B[38;5;124mRate limit exceeded\u001B[39m\u001B[38;5;124m\"\u001B[39m,\n\u001B[0;32m    582\u001B[0m         {\u001B[38;5;124m\"\u001B[39m\u001B[38;5;124mresponse\u001B[39m\u001B[38;5;124m\"\u001B[39m: response_body}\n\u001B[0;32m    583\u001B[0m     )\n\u001B[0;32m    584\u001B[0m \u001B[38;5;28;01melif\u001B[39;00m status_code \u001B[38;5;241m==\u001B[39m \u001B[38;5;241m472\u001B[39m:  \u001B[38;5;66;03m# ThetaData specific error code\u001B[39;00m\n\u001B[1;32m--> 585\u001B[0m     \u001B[38;5;28;01mraise\u001B[39;00m ThetadataValidationError(\n\u001B[0;32m    586\u001B[0m         \u001B[38;5;124m\"\u001B[39m\u001B[38;5;124mInvalid request parameters or symbol\u001B[39m\u001B[38;5;124m\"\u001B[39m,\n\u001B[0;32m    587\u001B[0m         {\u001B[38;5;124m\"\u001B[39m\u001B[38;5;124mparams\u001B[39m\u001B[38;5;124m\"\u001B[39m: params, \u001B[38;5;124m\"\u001B[39m\u001B[38;5;124mresponse\u001B[39m\u001B[38;5;124m\"\u001B[39m: response_body}\n\u001B[0;32m    588\u001B[0m     )\n\u001B[0;32m    589\u001B[0m \u001B[38;5;28;01melif\u001B[39;00m status_code \u001B[38;5;241m>\u001B[39m\u001B[38;5;241m=\u001B[39m \u001B[38;5;241m500\u001B[39m:\n\u001B[0;32m    590\u001B[0m     \u001B[38;5;28;01mraise\u001B[39;00m ServiceError(\n\u001B[0;32m    591\u001B[0m         \u001B[38;5;124m\"\u001B[39m\u001B[38;5;124mService error occurred\u001B[39m\u001B[38;5;124m\"\u001B[39m,\n\u001B[0;32m    592\u001B[0m         response\u001B[38;5;241m=\u001B[39mresponse_body,\n\u001B[0;32m    593\u001B[0m         status_code\u001B[38;5;241m=\u001B[39mstatus_code\n\u001B[0;32m    594\u001B[0m     )\n",
      "\u001B[1;31mThetadataValidationError\u001B[0m: Invalid request parameters or symbol\nDetails: {'params': {'root': 'LKJASDFOS'}, 'response': 'Nonexistent root symbol'}"
     ]
    }
   ],
   "execution_count": 4
  },
  {
   "metadata": {},
   "cell_type": "code",
   "source": [
    "dates = client.option_dates(\n",
    "    root=\"AAPL\",\n",
    "    req=\"quote\",\n",
    "    exp=20241025,\n",
    "    strike=220000,\n",
    "    right='C'\n",
    "    )\n",
    "dates"
   ],
   "id": "67ddc721d1ccff75",
   "outputs": [],
   "execution_count": null
  },
  {
   "metadata": {
    "ExecuteTime": {
     "end_time": "2024-10-27T14:35:18.281819Z",
     "start_time": "2024-10-27T14:35:17.719933Z"
    }
   },
   "cell_type": "code",
   "source": [
    "dates = client.strikes(\n",
    "    root=\"AAPL\",\n",
    "    exp=20241025,\n",
    "    )\n",
    "dates"
   ],
   "id": "7fa2b5f48eda2d94",
   "outputs": [
    {
     "data": {
      "text/plain": [
       "0     100.0\n",
       "1     105.0\n",
       "2     110.0\n",
       "3     115.0\n",
       "4     120.0\n",
       "5     125.0\n",
       "6     130.0\n",
       "7     135.0\n",
       "8     140.0\n",
       "9     145.0\n",
       "10    150.0\n",
       "11    155.0\n",
       "12    160.0\n",
       "13    165.0\n",
       "14    170.0\n",
       "15    175.0\n",
       "16    180.0\n",
       "17    185.0\n",
       "18    190.0\n",
       "19    192.5\n",
       "20    195.0\n",
       "21    197.5\n",
       "22    200.0\n",
       "23    202.5\n",
       "24    205.0\n",
       "25    207.5\n",
       "26    210.0\n",
       "27    212.5\n",
       "28    215.0\n",
       "29    217.5\n",
       "30    220.0\n",
       "31    222.5\n",
       "32    225.0\n",
       "33    227.5\n",
       "34    230.0\n",
       "35    232.5\n",
       "36    235.0\n",
       "37    237.5\n",
       "38    240.0\n",
       "39    242.5\n",
       "40    245.0\n",
       "41    247.5\n",
       "42    250.0\n",
       "43    252.5\n",
       "44    255.0\n",
       "45    257.5\n",
       "46    260.0\n",
       "47    262.5\n",
       "48    265.0\n",
       "49    270.0\n",
       "50    275.0\n",
       "51    280.0\n",
       "52    285.0\n",
       "53    290.0\n",
       "54    295.0\n",
       "55    300.0\n",
       "Name: strikes, dtype: float64"
      ]
     },
     "execution_count": 8,
     "metadata": {},
     "output_type": "execute_result"
    }
   ],
   "execution_count": 8
  },
  {
   "metadata": {
    "ExecuteTime": {
     "end_time": "2024-10-27T14:35:20.315904Z",
     "start_time": "2024-10-27T14:35:18.285373Z"
    }
   },
   "cell_type": "code",
   "source": [
    "cars = client.contracts(\n",
    "    root=\"AAPL\",\n",
    "    req=\"quote\",\n",
    "    start_date=20230512,\n",
    "    )\n",
    "cars"
   ],
   "id": "94163beb3b699a78",
   "outputs": [
    {
     "data": {
      "text/plain": [
       "            root  strike right\n",
       "expiration                    \n",
       "2024-06-21  AAPL   145.0     C\n",
       "2023-05-12  AAPL    80.0     P\n",
       "2023-05-12  AAPL    80.0     C\n",
       "2024-06-21  AAPL   145.0     P\n",
       "2025-12-19  AAPL   210.0     P\n",
       "...          ...     ...   ...\n",
       "2023-09-15  AAPL   145.0     C\n",
       "2023-11-17  AAPL   145.0     P\n",
       "2023-11-17  AAPL   145.0     C\n",
       "2024-01-19  AAPL   145.0     P\n",
       "2024-01-19  AAPL   145.0     C\n",
       "\n",
       "[2114 rows x 3 columns]"
      ],
      "text/html": [
       "<div>\n",
       "<style scoped>\n",
       "    .dataframe tbody tr th:only-of-type {\n",
       "        vertical-align: middle;\n",
       "    }\n",
       "\n",
       "    .dataframe tbody tr th {\n",
       "        vertical-align: top;\n",
       "    }\n",
       "\n",
       "    .dataframe thead th {\n",
       "        text-align: right;\n",
       "    }\n",
       "</style>\n",
       "<table border=\"1\" class=\"dataframe\">\n",
       "  <thead>\n",
       "    <tr style=\"text-align: right;\">\n",
       "      <th></th>\n",
       "      <th>root</th>\n",
       "      <th>strike</th>\n",
       "      <th>right</th>\n",
       "    </tr>\n",
       "    <tr>\n",
       "      <th>expiration</th>\n",
       "      <th></th>\n",
       "      <th></th>\n",
       "      <th></th>\n",
       "    </tr>\n",
       "  </thead>\n",
       "  <tbody>\n",
       "    <tr>\n",
       "      <th>2024-06-21</th>\n",
       "      <td>AAPL</td>\n",
       "      <td>145.0</td>\n",
       "      <td>C</td>\n",
       "    </tr>\n",
       "    <tr>\n",
       "      <th>2023-05-12</th>\n",
       "      <td>AAPL</td>\n",
       "      <td>80.0</td>\n",
       "      <td>P</td>\n",
       "    </tr>\n",
       "    <tr>\n",
       "      <th>2023-05-12</th>\n",
       "      <td>AAPL</td>\n",
       "      <td>80.0</td>\n",
       "      <td>C</td>\n",
       "    </tr>\n",
       "    <tr>\n",
       "      <th>2024-06-21</th>\n",
       "      <td>AAPL</td>\n",
       "      <td>145.0</td>\n",
       "      <td>P</td>\n",
       "    </tr>\n",
       "    <tr>\n",
       "      <th>2025-12-19</th>\n",
       "      <td>AAPL</td>\n",
       "      <td>210.0</td>\n",
       "      <td>P</td>\n",
       "    </tr>\n",
       "    <tr>\n",
       "      <th>...</th>\n",
       "      <td>...</td>\n",
       "      <td>...</td>\n",
       "      <td>...</td>\n",
       "    </tr>\n",
       "    <tr>\n",
       "      <th>2023-09-15</th>\n",
       "      <td>AAPL</td>\n",
       "      <td>145.0</td>\n",
       "      <td>C</td>\n",
       "    </tr>\n",
       "    <tr>\n",
       "      <th>2023-11-17</th>\n",
       "      <td>AAPL</td>\n",
       "      <td>145.0</td>\n",
       "      <td>P</td>\n",
       "    </tr>\n",
       "    <tr>\n",
       "      <th>2023-11-17</th>\n",
       "      <td>AAPL</td>\n",
       "      <td>145.0</td>\n",
       "      <td>C</td>\n",
       "    </tr>\n",
       "    <tr>\n",
       "      <th>2024-01-19</th>\n",
       "      <td>AAPL</td>\n",
       "      <td>145.0</td>\n",
       "      <td>P</td>\n",
       "    </tr>\n",
       "    <tr>\n",
       "      <th>2024-01-19</th>\n",
       "      <td>AAPL</td>\n",
       "      <td>145.0</td>\n",
       "      <td>C</td>\n",
       "    </tr>\n",
       "  </tbody>\n",
       "</table>\n",
       "<p>2114 rows × 3 columns</p>\n",
       "</div>"
      ]
     },
     "execution_count": 9,
     "metadata": {},
     "output_type": "execute_result"
    }
   ],
   "execution_count": 9
  },
  {
   "metadata": {
    "ExecuteTime": {
     "end_time": "2024-10-27T14:35:20.319949Z",
     "start_time": "2024-10-27T14:35:20.316903Z"
    }
   },
   "cell_type": "code",
   "source": "",
   "id": "c507f5fc6a3d7f1d",
   "outputs": [],
   "execution_count": 9
  },
  {
   "metadata": {
    "ExecuteTime": {
     "end_time": "2024-10-27T14:35:21.344146Z",
     "start_time": "2024-10-27T14:35:20.320945Z"
    }
   },
   "cell_type": "code",
   "source": [
    "client.kill()\n",
    "client.status()"
   ],
   "id": "689759fd9da4f4ae",
   "outputs": [
    {
     "name": "stderr",
     "output_type": "stream",
     "text": [
      "ERROR:root:TBD\n",
      "ERROR:root:Could not get mdds status. Error: [WinError 10054] An existing connection was forcibly closed by the remote host\n"
     ]
    }
   ],
   "execution_count": 10
  }
 ],
 "metadata": {
  "kernelspec": {
   "display_name": "Python 3",
   "language": "python",
   "name": "python3"
  },
  "language_info": {
   "codemirror_mode": {
    "name": "ipython",
    "version": 2
   },
   "file_extension": ".py",
   "mimetype": "text/x-python",
   "name": "python",
   "nbconvert_exporter": "python",
   "pygments_lexer": "ipython2",
   "version": "2.7.6"
  }
 },
 "nbformat": 4,
 "nbformat_minor": 5
}
