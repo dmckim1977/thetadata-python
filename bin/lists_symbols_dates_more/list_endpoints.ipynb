{
 "cells": [
  {
   "metadata": {},
   "cell_type": "markdown",
   "source": [
    "# List endpoints\n",
    "\n",
    "[Docs](https://http-docs.thetadata.us/docs/theta-data-rest-api-v2/xfvx6hws9suhm-list-roots-expirations-strikes-dates)"
   ],
   "id": "bc3f437683876a08"
  },
  {
   "metadata": {
    "ExecuteTime": {
     "end_time": "2024-10-27T14:35:04.862072Z",
     "start_time": "2024-10-27T14:35:03.699080Z"
    }
   },
   "cell_type": "code",
   "source": [
    "import os\n",
    "import time\n",
    "\n",
    "import thetadata\n",
    "from thetadata import ThetaClient\n",
    "from dotenv import load_dotenv"
   ],
   "id": "a00fc07baa8b8f77",
   "outputs": [],
   "execution_count": 1
  },
  {
   "metadata": {
    "ExecuteTime": {
     "end_time": "2024-10-27T14:35:04.869377Z",
     "start_time": "2024-10-27T14:35:04.863627Z"
    }
   },
   "cell_type": "code",
   "source": [
    "# Get environment variables in .env in project root\n",
    "load_dotenv()\n",
    "\n",
    "USERNAME=os.getenv('THETAUSER')\n",
    "PASSWORD=os.getenv('THETAPASS')"
   ],
   "id": "46d6a95baf238dde",
   "outputs": [],
   "execution_count": 2
  },
  {
   "metadata": {
    "ExecuteTime": {
     "end_time": "2024-10-27T14:35:15.360303Z",
     "start_time": "2024-10-27T14:35:04.870909Z"
    }
   },
   "cell_type": "code",
   "source": [
    "client = ThetaClient(username=USERNAME, passwd=PASSWORD)\n",
    "time.sleep(8) # TODO because it isn't started yet. Need to fix"
   ],
   "id": "2459c16741bb14b1",
   "outputs": [
    {
     "name": "stdout",
     "output_type": "stream",
     "text": [
      "If you require API support, feel free to join our discord server! http://discord.thetadata.us\n",
      "[10-27-2024 09:35:08] INFO: Starting Theta Terminal v1.6.7 Revision A...\r\n",
      "[10-27-2024 09:35:08] INFO: Config dir: C:\\Users\\david\\ThetaData\\ThetaTerminal\r\n",
      "[10-27-2024 09:35:08] INFO: [MDDS] Attempting login as davidmckim@gmail.com\r\n",
      "[10-27-2024 09:35:08] INFO: [FPSS] Attempting login as davidmckim@gmail.com\r\n",
      "[10-27-2024 09:35:09] INFO: [FPSS] CONNECTED: [nj-a.thetadata.us:20000], Bundle: STOCK.FREE, OPTION.PRO, INDEX.FREE\r\n",
      "[10-27-2024 09:35:10] INFO: [MDDS] CONNECTED: [nj-a.thetadata.us:12000], Bundle: STOCK.FREE, OPTION.PRO, INDEX.FREE\r\n"
     ]
    }
   ],
   "execution_count": 3
  },
  {
   "metadata": {
    "ExecuteTime": {
     "end_time": "2024-10-27T14:35:15.870420Z",
     "start_time": "2024-10-27T14:35:15.363983Z"
    }
   },
   "cell_type": "code",
   "source": "client.status()",
   "id": "cf6c12789ce06eb9",
   "outputs": [],
   "execution_count": 4
  },
  {
   "metadata": {
    "ExecuteTime": {
     "end_time": "2024-10-27T14:35:16.633246Z",
     "start_time": "2024-10-27T14:35:15.873464Z"
    }
   },
   "cell_type": "code",
   "source": [
    "roots = client.roots(security_type=\"option\")\n",
    "roots"
   ],
   "id": "af1a3e16710a9dc",
   "outputs": [
    {
     "data": {
      "text/plain": [
       "0        1BXSL\n",
       "1        1CORZ\n",
       "2        1INVH\n",
       "3        1LNCO\n",
       "4        2CLSK\n",
       "         ...  \n",
       "13851       ZZ\n",
       "13852      ZZK\n",
       "13853      ZZV\n",
       "13854      ZZZ\n",
       "13855     ZZZ1\n",
       "Name: roots, Length: 13856, dtype: object"
      ]
     },
     "execution_count": 5,
     "metadata": {},
     "output_type": "execute_result"
    }
   ],
   "execution_count": 5
  },
  {
   "metadata": {
    "ExecuteTime": {
     "end_time": "2024-10-27T14:35:17.167685Z",
     "start_time": "2024-10-27T14:35:16.634461Z"
    }
   },
   "cell_type": "code",
   "source": [
    "exps = client.expirations(root=\"AAPL\")\n",
    "exps"
   ],
   "id": "e15a1946fc51834d",
   "outputs": [
    {
     "data": {
      "text/plain": [
       "0     2012-06-01\n",
       "1     2012-06-08\n",
       "2     2012-06-16\n",
       "3     2012-06-22\n",
       "4     2012-06-29\n",
       "         ...    \n",
       "662   2025-12-19\n",
       "663   2026-01-16\n",
       "664   2026-06-18\n",
       "665   2026-12-18\n",
       "666   2027-01-15\n",
       "Name: expirations, Length: 667, dtype: datetime64[ns]"
      ]
     },
     "execution_count": 6,
     "metadata": {},
     "output_type": "execute_result"
    }
   ],
   "execution_count": 6
  },
  {
   "metadata": {
    "ExecuteTime": {
     "end_time": "2024-10-27T14:35:17.718928Z",
     "start_time": "2024-10-27T14:35:17.169200Z"
    }
   },
   "cell_type": "code",
   "source": [
    "dates = client.option_dates(\n",
    "    root=\"AAPL\",\n",
    "    req=\"quote\",\n",
    "    exp=20241025,\n",
    "    strike=220000,\n",
    "    right='C'\n",
    "    )\n",
    "dates"
   ],
   "id": "67ddc721d1ccff75",
   "outputs": [
    {
     "data": {
      "text/plain": [
       "0    2024-09-05\n",
       "1    2024-09-06\n",
       "2    2024-09-09\n",
       "3    2024-09-10\n",
       "4    2024-09-11\n",
       "5    2024-09-12\n",
       "6    2024-09-13\n",
       "7    2024-09-16\n",
       "8    2024-09-17\n",
       "9    2024-09-18\n",
       "10   2024-09-19\n",
       "11   2024-09-20\n",
       "12   2024-09-23\n",
       "13   2024-09-24\n",
       "14   2024-09-25\n",
       "15   2024-09-26\n",
       "16   2024-09-27\n",
       "17   2024-09-30\n",
       "18   2024-10-01\n",
       "19   2024-10-02\n",
       "20   2024-10-03\n",
       "21   2024-10-04\n",
       "22   2024-10-07\n",
       "23   2024-10-08\n",
       "24   2024-10-09\n",
       "25   2024-10-10\n",
       "26   2024-10-11\n",
       "27   2024-10-14\n",
       "28   2024-10-15\n",
       "29   2024-10-16\n",
       "30   2024-10-17\n",
       "31   2024-10-18\n",
       "32   2024-10-21\n",
       "33   2024-10-22\n",
       "34   2024-10-23\n",
       "35   2024-10-24\n",
       "36   2024-10-25\n",
       "Name: dates, dtype: datetime64[ns]"
      ]
     },
     "execution_count": 7,
     "metadata": {},
     "output_type": "execute_result"
    }
   ],
   "execution_count": 7
  },
  {
   "metadata": {
    "ExecuteTime": {
     "end_time": "2024-10-27T14:35:18.281819Z",
     "start_time": "2024-10-27T14:35:17.719933Z"
    }
   },
   "cell_type": "code",
   "source": [
    "dates = client.strikes(\n",
    "    root=\"AAPL\",\n",
    "    exp=20241025,\n",
    "    )\n",
    "dates"
   ],
   "id": "7fa2b5f48eda2d94",
   "outputs": [
    {
     "data": {
      "text/plain": [
       "0     100.0\n",
       "1     105.0\n",
       "2     110.0\n",
       "3     115.0\n",
       "4     120.0\n",
       "5     125.0\n",
       "6     130.0\n",
       "7     135.0\n",
       "8     140.0\n",
       "9     145.0\n",
       "10    150.0\n",
       "11    155.0\n",
       "12    160.0\n",
       "13    165.0\n",
       "14    170.0\n",
       "15    175.0\n",
       "16    180.0\n",
       "17    185.0\n",
       "18    190.0\n",
       "19    192.5\n",
       "20    195.0\n",
       "21    197.5\n",
       "22    200.0\n",
       "23    202.5\n",
       "24    205.0\n",
       "25    207.5\n",
       "26    210.0\n",
       "27    212.5\n",
       "28    215.0\n",
       "29    217.5\n",
       "30    220.0\n",
       "31    222.5\n",
       "32    225.0\n",
       "33    227.5\n",
       "34    230.0\n",
       "35    232.5\n",
       "36    235.0\n",
       "37    237.5\n",
       "38    240.0\n",
       "39    242.5\n",
       "40    245.0\n",
       "41    247.5\n",
       "42    250.0\n",
       "43    252.5\n",
       "44    255.0\n",
       "45    257.5\n",
       "46    260.0\n",
       "47    262.5\n",
       "48    265.0\n",
       "49    270.0\n",
       "50    275.0\n",
       "51    280.0\n",
       "52    285.0\n",
       "53    290.0\n",
       "54    295.0\n",
       "55    300.0\n",
       "Name: strikes, dtype: float64"
      ]
     },
     "execution_count": 8,
     "metadata": {},
     "output_type": "execute_result"
    }
   ],
   "execution_count": 8
  },
  {
   "metadata": {
    "ExecuteTime": {
     "end_time": "2024-10-27T14:35:20.315904Z",
     "start_time": "2024-10-27T14:35:18.285373Z"
    }
   },
   "cell_type": "code",
   "source": [
    "cars = client.contracts(\n",
    "    root=\"AAPL\",\n",
    "    req=\"quote\",\n",
    "    start_date=20230512,\n",
    "    )\n",
    "cars"
   ],
   "id": "94163beb3b699a78",
   "outputs": [
    {
     "data": {
      "text/plain": [
       "            root  strike right\n",
       "expiration                    \n",
       "2024-06-21  AAPL   145.0     C\n",
       "2023-05-12  AAPL    80.0     P\n",
       "2023-05-12  AAPL    80.0     C\n",
       "2024-06-21  AAPL   145.0     P\n",
       "2025-12-19  AAPL   210.0     P\n",
       "...          ...     ...   ...\n",
       "2023-09-15  AAPL   145.0     C\n",
       "2023-11-17  AAPL   145.0     P\n",
       "2023-11-17  AAPL   145.0     C\n",
       "2024-01-19  AAPL   145.0     P\n",
       "2024-01-19  AAPL   145.0     C\n",
       "\n",
       "[2114 rows x 3 columns]"
      ],
      "text/html": [
       "<div>\n",
       "<style scoped>\n",
       "    .dataframe tbody tr th:only-of-type {\n",
       "        vertical-align: middle;\n",
       "    }\n",
       "\n",
       "    .dataframe tbody tr th {\n",
       "        vertical-align: top;\n",
       "    }\n",
       "\n",
       "    .dataframe thead th {\n",
       "        text-align: right;\n",
       "    }\n",
       "</style>\n",
       "<table border=\"1\" class=\"dataframe\">\n",
       "  <thead>\n",
       "    <tr style=\"text-align: right;\">\n",
       "      <th></th>\n",
       "      <th>root</th>\n",
       "      <th>strike</th>\n",
       "      <th>right</th>\n",
       "    </tr>\n",
       "    <tr>\n",
       "      <th>expiration</th>\n",
       "      <th></th>\n",
       "      <th></th>\n",
       "      <th></th>\n",
       "    </tr>\n",
       "  </thead>\n",
       "  <tbody>\n",
       "    <tr>\n",
       "      <th>2024-06-21</th>\n",
       "      <td>AAPL</td>\n",
       "      <td>145.0</td>\n",
       "      <td>C</td>\n",
       "    </tr>\n",
       "    <tr>\n",
       "      <th>2023-05-12</th>\n",
       "      <td>AAPL</td>\n",
       "      <td>80.0</td>\n",
       "      <td>P</td>\n",
       "    </tr>\n",
       "    <tr>\n",
       "      <th>2023-05-12</th>\n",
       "      <td>AAPL</td>\n",
       "      <td>80.0</td>\n",
       "      <td>C</td>\n",
       "    </tr>\n",
       "    <tr>\n",
       "      <th>2024-06-21</th>\n",
       "      <td>AAPL</td>\n",
       "      <td>145.0</td>\n",
       "      <td>P</td>\n",
       "    </tr>\n",
       "    <tr>\n",
       "      <th>2025-12-19</th>\n",
       "      <td>AAPL</td>\n",
       "      <td>210.0</td>\n",
       "      <td>P</td>\n",
       "    </tr>\n",
       "    <tr>\n",
       "      <th>...</th>\n",
       "      <td>...</td>\n",
       "      <td>...</td>\n",
       "      <td>...</td>\n",
       "    </tr>\n",
       "    <tr>\n",
       "      <th>2023-09-15</th>\n",
       "      <td>AAPL</td>\n",
       "      <td>145.0</td>\n",
       "      <td>C</td>\n",
       "    </tr>\n",
       "    <tr>\n",
       "      <th>2023-11-17</th>\n",
       "      <td>AAPL</td>\n",
       "      <td>145.0</td>\n",
       "      <td>P</td>\n",
       "    </tr>\n",
       "    <tr>\n",
       "      <th>2023-11-17</th>\n",
       "      <td>AAPL</td>\n",
       "      <td>145.0</td>\n",
       "      <td>C</td>\n",
       "    </tr>\n",
       "    <tr>\n",
       "      <th>2024-01-19</th>\n",
       "      <td>AAPL</td>\n",
       "      <td>145.0</td>\n",
       "      <td>P</td>\n",
       "    </tr>\n",
       "    <tr>\n",
       "      <th>2024-01-19</th>\n",
       "      <td>AAPL</td>\n",
       "      <td>145.0</td>\n",
       "      <td>C</td>\n",
       "    </tr>\n",
       "  </tbody>\n",
       "</table>\n",
       "<p>2114 rows × 3 columns</p>\n",
       "</div>"
      ]
     },
     "execution_count": 9,
     "metadata": {},
     "output_type": "execute_result"
    }
   ],
   "execution_count": 9
  },
  {
   "metadata": {
    "ExecuteTime": {
     "end_time": "2024-10-27T14:35:20.319949Z",
     "start_time": "2024-10-27T14:35:20.316903Z"
    }
   },
   "cell_type": "code",
   "source": "",
   "id": "c507f5fc6a3d7f1d",
   "outputs": [],
   "execution_count": 9
  },
  {
   "metadata": {
    "ExecuteTime": {
     "end_time": "2024-10-27T14:35:21.344146Z",
     "start_time": "2024-10-27T14:35:20.320945Z"
    }
   },
   "cell_type": "code",
   "source": [
    "client.kill()\n",
    "client.status()"
   ],
   "id": "689759fd9da4f4ae",
   "outputs": [
    {
     "name": "stderr",
     "output_type": "stream",
     "text": [
      "ERROR:root:TBD\n",
      "ERROR:root:Could not get mdds status. Error: [WinError 10054] An existing connection was forcibly closed by the remote host\n"
     ]
    }
   ],
   "execution_count": 10
  }
 ],
 "metadata": {
  "kernelspec": {
   "display_name": "Python 3",
   "language": "python",
   "name": "python3"
  },
  "language_info": {
   "codemirror_mode": {
    "name": "ipython",
    "version": 2
   },
   "file_extension": ".py",
   "mimetype": "text/x-python",
   "name": "python",
   "nbconvert_exporter": "python",
   "pygments_lexer": "ipython2",
   "version": "2.7.6"
  }
 },
 "nbformat": 4,
 "nbformat_minor": 5
}
