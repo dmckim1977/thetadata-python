{
 "cells": [
  {
   "cell_type": "code",
   "id": "initial_id",
   "metadata": {
    "collapsed": true,
    "ExecuteTime": {
     "end_time": "2024-10-29T17:25:04.887529Z",
     "start_time": "2024-10-29T17:24:52.691701Z"
    }
   },
   "source": [
    "import os\n",
    "import time\n",
    "\n",
    "from thetadata import ThetaClient\n",
    "from dotenv import load_dotenv\n",
    "\n",
    "# Get environment variables in .env in project root\n",
    "load_dotenv()\n",
    "\n",
    "USERNAME=os.getenv('THETAUSER')\n",
    "PASSWORD=os.getenv('THETAPASS')\n",
    "\n",
    "client = ThetaClient(username=USERNAME, passwd=PASSWORD)\n",
    "time.sleep(8) # TODO because it isn't started yet. Need to fix"
   ],
   "outputs": [
    {
     "name": "stdout",
     "output_type": "stream",
     "text": [
      "If you require API support, feel free to join our discord server! http://discord.thetadata.us\n",
      "[10-29-2024 12:24:57] INFO: Starting Theta Terminal v1.6.7 Revision A...\r\n",
      "[10-29-2024 12:24:57] INFO: Config dir: C:\\Users\\david\\ThetaData\\ThetaTerminal\r\n",
      "[10-29-2024 12:24:58] INFO: [MDDS] Attempting login as davidmckim@gmail.com\r\n",
      "[10-29-2024 12:24:58] INFO: [FPSS] Attempting login as davidmckim@gmail.com\r\n",
      "[10-29-2024 12:25:00] WARN: [FPSS] Disconnected from server: ACCOUNT_ALREADY_CONNECTED\r\n",
      "[10-29-2024 12:25:00] WARN: [FPSS] Disconnected from server: GENERAL_VALIDATION_ERROR\r\n",
      "[10-29-2024 12:25:00] WARN: Your password might contain invalid characters. Try resetting it: https://thetadata.net > sign out > log in > forgot password.\r\n",
      "[10-29-2024 12:25:00] INFO: [MDDS] CONNECTED: [nj-a.thetadata.us:12000], Bundle: STOCK.FREE, OPTION.PRO, INDEX.FREE\r\n"
     ]
    }
   ],
   "execution_count": 1
  },
  {
   "metadata": {
    "ExecuteTime": {
     "end_time": "2024-10-29T17:26:21.195281Z",
     "start_time": "2024-10-29T17:26:19.727569Z"
    }
   },
   "cell_type": "code",
   "source": [
    "quotes = client.snapshots_quotes(\n",
    "        exp=20241115,\n",
    "        root=\"AAPL\",\n",
    "        right='C',\n",
    "        strike=250000,\n",
    "    )\n",
    "quotes"
   ],
   "id": "6017a0c4f80634d",
   "outputs": [
    {
     "data": {
      "text/plain": [
       "                                        ms_of_day  bid_size  bid_exchange  \\\n",
       "trade_datetime                                                              \n",
       "2024-10-29 13:26:22.396000-04:00  13:26:22.396000       202            46   \n",
       "\n",
       "                                   bid  bid_condition  ask_size  ask_exchange  \\\n",
       "trade_datetime                                                                  \n",
       "2024-10-29 13:26:22.396000-04:00  0.98             50         2             7   \n",
       "\n",
       "                                   ask  ask_condition       date  \n",
       "trade_datetime                                                    \n",
       "2024-10-29 13:26:22.396000-04:00  0.99             50 2024-10-29  "
      ],
      "text/html": [
       "<div>\n",
       "<style scoped>\n",
       "    .dataframe tbody tr th:only-of-type {\n",
       "        vertical-align: middle;\n",
       "    }\n",
       "\n",
       "    .dataframe tbody tr th {\n",
       "        vertical-align: top;\n",
       "    }\n",
       "\n",
       "    .dataframe thead th {\n",
       "        text-align: right;\n",
       "    }\n",
       "</style>\n",
       "<table border=\"1\" class=\"dataframe\">\n",
       "  <thead>\n",
       "    <tr style=\"text-align: right;\">\n",
       "      <th></th>\n",
       "      <th>ms_of_day</th>\n",
       "      <th>bid_size</th>\n",
       "      <th>bid_exchange</th>\n",
       "      <th>bid</th>\n",
       "      <th>bid_condition</th>\n",
       "      <th>ask_size</th>\n",
       "      <th>ask_exchange</th>\n",
       "      <th>ask</th>\n",
       "      <th>ask_condition</th>\n",
       "      <th>date</th>\n",
       "    </tr>\n",
       "    <tr>\n",
       "      <th>trade_datetime</th>\n",
       "      <th></th>\n",
       "      <th></th>\n",
       "      <th></th>\n",
       "      <th></th>\n",
       "      <th></th>\n",
       "      <th></th>\n",
       "      <th></th>\n",
       "      <th></th>\n",
       "      <th></th>\n",
       "      <th></th>\n",
       "    </tr>\n",
       "  </thead>\n",
       "  <tbody>\n",
       "    <tr>\n",
       "      <th>2024-10-29 13:26:22.396000-04:00</th>\n",
       "      <td>13:26:22.396000</td>\n",
       "      <td>202</td>\n",
       "      <td>46</td>\n",
       "      <td>0.98</td>\n",
       "      <td>50</td>\n",
       "      <td>2</td>\n",
       "      <td>7</td>\n",
       "      <td>0.99</td>\n",
       "      <td>50</td>\n",
       "      <td>2024-10-29</td>\n",
       "    </tr>\n",
       "  </tbody>\n",
       "</table>\n",
       "</div>"
      ]
     },
     "execution_count": 4,
     "metadata": {},
     "output_type": "execute_result"
    }
   ],
   "execution_count": 4
  },
  {
   "metadata": {
    "ExecuteTime": {
     "end_time": "2024-10-29T17:26:22.943963Z",
     "start_time": "2024-10-29T17:26:22.158099Z"
    }
   },
   "cell_type": "code",
   "source": [
    "ohlc = client.snapshots_ohlc(\n",
    "        exp=20241115,\n",
    "        root=\"AAPL\",\n",
    "        right='C',\n",
    "        strike=250000,\n",
    "    )\n",
    "ohlc"
   ],
   "id": "98596f106c2ed55",
   "outputs": [
    {
     "data": {
      "text/plain": [
       "                                        ms_of_day  open  high   low  close  \\\n",
       "trade_datetime                                                               \n",
       "2024-10-29 13:21:35.366000-04:00  13:21:35.366000  0.91  1.03  0.87   0.99   \n",
       "\n",
       "                                  volume  count       date  \n",
       "trade_datetime                                              \n",
       "2024-10-29 13:21:35.366000-04:00     867    146 2024-10-29  "
      ],
      "text/html": [
       "<div>\n",
       "<style scoped>\n",
       "    .dataframe tbody tr th:only-of-type {\n",
       "        vertical-align: middle;\n",
       "    }\n",
       "\n",
       "    .dataframe tbody tr th {\n",
       "        vertical-align: top;\n",
       "    }\n",
       "\n",
       "    .dataframe thead th {\n",
       "        text-align: right;\n",
       "    }\n",
       "</style>\n",
       "<table border=\"1\" class=\"dataframe\">\n",
       "  <thead>\n",
       "    <tr style=\"text-align: right;\">\n",
       "      <th></th>\n",
       "      <th>ms_of_day</th>\n",
       "      <th>open</th>\n",
       "      <th>high</th>\n",
       "      <th>low</th>\n",
       "      <th>close</th>\n",
       "      <th>volume</th>\n",
       "      <th>count</th>\n",
       "      <th>date</th>\n",
       "    </tr>\n",
       "    <tr>\n",
       "      <th>trade_datetime</th>\n",
       "      <th></th>\n",
       "      <th></th>\n",
       "      <th></th>\n",
       "      <th></th>\n",
       "      <th></th>\n",
       "      <th></th>\n",
       "      <th></th>\n",
       "      <th></th>\n",
       "    </tr>\n",
       "  </thead>\n",
       "  <tbody>\n",
       "    <tr>\n",
       "      <th>2024-10-29 13:21:35.366000-04:00</th>\n",
       "      <td>13:21:35.366000</td>\n",
       "      <td>0.91</td>\n",
       "      <td>1.03</td>\n",
       "      <td>0.87</td>\n",
       "      <td>0.99</td>\n",
       "      <td>867</td>\n",
       "      <td>146</td>\n",
       "      <td>2024-10-29</td>\n",
       "    </tr>\n",
       "  </tbody>\n",
       "</table>\n",
       "</div>"
      ]
     },
     "execution_count": 5,
     "metadata": {},
     "output_type": "execute_result"
    }
   ],
   "execution_count": 5
  },
  {
   "metadata": {
    "ExecuteTime": {
     "end_time": "2024-10-29T17:26:25.050143Z",
     "start_time": "2024-10-29T17:26:23.700234Z"
    }
   },
   "cell_type": "code",
   "source": [
    "trade = client.snapshots_trade(\n",
    "        exp=20241115,\n",
    "        root=\"AAPL\",\n",
    "        right='C',\n",
    "        strike=250000,\n",
    "    )\n",
    "trade"
   ],
   "id": "656a3df383e8b36b",
   "outputs": [
    {
     "data": {
      "text/plain": [
       "                                        ms_of_day  sequence  size  condition  \\\n",
       "trade_datetime                                                                 \n",
       "2024-10-29 13:21:35.366000-04:00  13:21:35.366000 -95220368     1         18   \n",
       "\n",
       "                                  price       date  \n",
       "trade_datetime                                      \n",
       "2024-10-29 13:21:35.366000-04:00   0.99 2024-10-29  "
      ],
      "text/html": [
       "<div>\n",
       "<style scoped>\n",
       "    .dataframe tbody tr th:only-of-type {\n",
       "        vertical-align: middle;\n",
       "    }\n",
       "\n",
       "    .dataframe tbody tr th {\n",
       "        vertical-align: top;\n",
       "    }\n",
       "\n",
       "    .dataframe thead th {\n",
       "        text-align: right;\n",
       "    }\n",
       "</style>\n",
       "<table border=\"1\" class=\"dataframe\">\n",
       "  <thead>\n",
       "    <tr style=\"text-align: right;\">\n",
       "      <th></th>\n",
       "      <th>ms_of_day</th>\n",
       "      <th>sequence</th>\n",
       "      <th>size</th>\n",
       "      <th>condition</th>\n",
       "      <th>price</th>\n",
       "      <th>date</th>\n",
       "    </tr>\n",
       "    <tr>\n",
       "      <th>trade_datetime</th>\n",
       "      <th></th>\n",
       "      <th></th>\n",
       "      <th></th>\n",
       "      <th></th>\n",
       "      <th></th>\n",
       "      <th></th>\n",
       "    </tr>\n",
       "  </thead>\n",
       "  <tbody>\n",
       "    <tr>\n",
       "      <th>2024-10-29 13:21:35.366000-04:00</th>\n",
       "      <td>13:21:35.366000</td>\n",
       "      <td>-95220368</td>\n",
       "      <td>1</td>\n",
       "      <td>18</td>\n",
       "      <td>0.99</td>\n",
       "      <td>2024-10-29</td>\n",
       "    </tr>\n",
       "  </tbody>\n",
       "</table>\n",
       "</div>"
      ]
     },
     "execution_count": 6,
     "metadata": {},
     "output_type": "execute_result"
    }
   ],
   "execution_count": 6
  },
  {
   "metadata": {
    "ExecuteTime": {
     "end_time": "2024-10-29T17:26:26.776358Z",
     "start_time": "2024-10-29T17:26:25.860140Z"
    }
   },
   "cell_type": "code",
   "source": [
    "open_interest = client.snapshots_open_interest(\n",
    "        exp=20241115,\n",
    "        root=\"AAPL\",\n",
    "        right='C',\n",
    "        strike=250000,\n",
    "    )\n",
    "open_interest"
   ],
   "id": "36a0ca49ad6f164a",
   "outputs": [
    {
     "data": {
      "text/plain": [
       "                          ms_of_day  open_interest       date\n",
       "trade_datetime                                               \n",
       "2024-10-29 06:30:06-04:00  06:30:06          24522 2024-10-29"
      ],
      "text/html": [
       "<div>\n",
       "<style scoped>\n",
       "    .dataframe tbody tr th:only-of-type {\n",
       "        vertical-align: middle;\n",
       "    }\n",
       "\n",
       "    .dataframe tbody tr th {\n",
       "        vertical-align: top;\n",
       "    }\n",
       "\n",
       "    .dataframe thead th {\n",
       "        text-align: right;\n",
       "    }\n",
       "</style>\n",
       "<table border=\"1\" class=\"dataframe\">\n",
       "  <thead>\n",
       "    <tr style=\"text-align: right;\">\n",
       "      <th></th>\n",
       "      <th>ms_of_day</th>\n",
       "      <th>open_interest</th>\n",
       "      <th>date</th>\n",
       "    </tr>\n",
       "    <tr>\n",
       "      <th>trade_datetime</th>\n",
       "      <th></th>\n",
       "      <th></th>\n",
       "      <th></th>\n",
       "    </tr>\n",
       "  </thead>\n",
       "  <tbody>\n",
       "    <tr>\n",
       "      <th>2024-10-29 06:30:06-04:00</th>\n",
       "      <td>06:30:06</td>\n",
       "      <td>24522</td>\n",
       "      <td>2024-10-29</td>\n",
       "    </tr>\n",
       "  </tbody>\n",
       "</table>\n",
       "</div>"
      ]
     },
     "execution_count": 7,
     "metadata": {},
     "output_type": "execute_result"
    }
   ],
   "execution_count": 7
  },
  {
   "metadata": {},
   "cell_type": "code",
   "source": "",
   "id": "e14a513aa490c65f",
   "outputs": [],
   "execution_count": null
  },
  {
   "metadata": {
    "ExecuteTime": {
     "end_time": "2024-10-29T17:26:34.998273Z",
     "start_time": "2024-10-29T17:26:31.252559Z"
    }
   },
   "cell_type": "code",
   "source": [
    "client.kill()\n",
    "client.status()"
   ],
   "id": "751ad0b2a7a79ae4",
   "outputs": [
    {
     "name": "stderr",
     "output_type": "stream",
     "text": [
      "ERROR:root:TBD\n",
      "ERROR:root:Could not get mdds status. Error: [WinError 10061] No connection could be made because the target machine actively refused it\n"
     ]
    }
   ],
   "execution_count": 8
  },
  {
   "metadata": {},
   "cell_type": "code",
   "outputs": [],
   "execution_count": null,
   "source": "",
   "id": "524de7a715addf51"
  }
 ],
 "metadata": {
  "kernelspec": {
   "display_name": "Python 3",
   "language": "python",
   "name": "python3"
  },
  "language_info": {
   "codemirror_mode": {
    "name": "ipython",
    "version": 2
   },
   "file_extension": ".py",
   "mimetype": "text/x-python",
   "name": "python",
   "nbconvert_exporter": "python",
   "pygments_lexer": "ipython2",
   "version": "2.7.6"
  }
 },
 "nbformat": 4,
 "nbformat_minor": 5
}
