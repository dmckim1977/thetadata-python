{
 "cells": [
  {
   "cell_type": "code",
   "id": "initial_id",
   "metadata": {
    "collapsed": true,
    "ExecuteTime": {
     "end_time": "2024-10-27T15:18:03.714560Z",
     "start_time": "2024-10-27T15:18:02.340905Z"
    }
   },
   "source": [
    "import os\n",
    "import time\n",
    "\n",
    "import thetadata\n",
    "from thetadata import ThetaClient\n",
    "from dotenv import load_dotenv"
   ],
   "outputs": [],
   "execution_count": 1
  },
  {
   "metadata": {
    "ExecuteTime": {
     "end_time": "2024-10-27T15:18:08.325884Z",
     "start_time": "2024-10-27T15:18:08.320366Z"
    }
   },
   "cell_type": "code",
   "source": [
    "# Get environment variables in .env in project root\n",
    "load_dotenv()\n",
    "\n",
    "USERNAME=os.getenv('THETAUSER')\n",
    "PASSWORD=os.getenv('THETAPASS')"
   ],
   "id": "6c92a846f50ab39e",
   "outputs": [],
   "execution_count": 2
  },
  {
   "metadata": {
    "ExecuteTime": {
     "end_time": "2024-10-27T15:18:30.119234Z",
     "start_time": "2024-10-27T15:18:19.284137Z"
    }
   },
   "cell_type": "code",
   "source": [
    "client = ThetaClient(username=USERNAME, passwd=PASSWORD)\n",
    "time.sleep(8) # TODO because it isn't started yet. Need to fix"
   ],
   "id": "de584449b66d2a80",
   "outputs": [
    {
     "name": "stdout",
     "output_type": "stream",
     "text": [
      "If you require API support, feel free to join our discord server! http://discord.thetadata.us\n",
      "[10-27-2024 10:18:22] INFO: Starting Theta Terminal v1.6.7 Revision A...\r\n",
      "[10-27-2024 10:18:22] INFO: Config dir: C:\\Users\\david\\ThetaData\\ThetaTerminal\r\n",
      "[10-27-2024 10:18:23] INFO: [MDDS] Attempting login as davidmckim@gmail.com\r\n",
      "[10-27-2024 10:18:23] INFO: [FPSS] Attempting login as davidmckim@gmail.com\r\n",
      "[10-27-2024 10:18:26] INFO: [MDDS] CONNECTED: [nj-a.thetadata.us:12000], Bundle: STOCK.FREE, OPTION.PRO, INDEX.FREE\r\n",
      "[10-27-2024 10:18:26] INFO: [FPSS] CONNECTED: [nj-a.thetadata.us:20000], Bundle: STOCK.FREE, OPTION.PRO, INDEX.FREE\r\n"
     ]
    }
   ],
   "execution_count": 3
  },
  {
   "metadata": {},
   "cell_type": "code",
   "outputs": [],
   "execution_count": null,
   "source": "",
   "id": "f7ee2a0deb32d2e4"
  }
 ],
 "metadata": {
  "kernelspec": {
   "display_name": "Python 3",
   "language": "python",
   "name": "python3"
  },
  "language_info": {
   "codemirror_mode": {
    "name": "ipython",
    "version": 2
   },
   "file_extension": ".py",
   "mimetype": "text/x-python",
   "name": "python",
   "nbconvert_exporter": "python",
   "pygments_lexer": "ipython2",
   "version": "2.7.6"
  }
 },
 "nbformat": 4,
 "nbformat_minor": 5
}
