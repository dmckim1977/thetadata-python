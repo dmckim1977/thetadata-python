{
 "cells": [
  {
   "cell_type": "code",
   "id": "initial_id",
   "metadata": {
    "collapsed": true,
    "ExecuteTime": {
     "end_time": "2024-11-28T10:33:42.269535Z",
     "start_time": "2024-11-28T10:33:39.890830Z"
    }
   },
   "source": [
    "import os\n",
    "import time\n",
    "\n",
    "import thetadata\n",
    "from thetadata import ThetaClient\n",
    "from dotenv import load_dotenv\n",
    "\n",
    "# Get environment variables in .env in project root\n",
    "load_dotenv()\n",
    "\n",
    "USERNAME=os.getenv('THETAUSER')\n",
    "PASSWORD=os.getenv('THETAPASS')"
   ],
   "outputs": [],
   "execution_count": 1
  },
  {
   "metadata": {
    "ExecuteTime": {
     "end_time": "2024-11-28T10:33:45.023996Z",
     "start_time": "2024-11-28T10:33:43.063650Z"
    }
   },
   "cell_type": "code",
   "source": "client = ThetaClient(username=USERNAME, passwd=PASSWORD, launch=True, check_download=True)",
   "id": "1726fb88bf0e3610",
   "outputs": [
    {
     "ename": "TypeError",
     "evalue": "'bool' object is not callable",
     "output_type": "error",
     "traceback": [
      "\u001B[1;31m---------------------------------------------------------------------------\u001B[0m",
      "\u001B[1;31mTypeError\u001B[0m                                 Traceback (most recent call last)",
      "Cell \u001B[1;32mIn[2], line 1\u001B[0m\n\u001B[1;32m----> 1\u001B[0m client \u001B[38;5;241m=\u001B[39m \u001B[43mThetaClient\u001B[49m\u001B[43m(\u001B[49m\u001B[43musername\u001B[49m\u001B[38;5;241;43m=\u001B[39;49m\u001B[43mUSERNAME\u001B[49m\u001B[43m,\u001B[49m\u001B[43m \u001B[49m\u001B[43mpasswd\u001B[49m\u001B[38;5;241;43m=\u001B[39;49m\u001B[43mPASSWORD\u001B[49m\u001B[43m,\u001B[49m\u001B[43m \u001B[49m\u001B[43mlaunch\u001B[49m\u001B[38;5;241;43m=\u001B[39;49m\u001B[38;5;28;43;01mTrue\u001B[39;49;00m\u001B[43m,\u001B[49m\u001B[43m \u001B[49m\u001B[43mcheck_download\u001B[49m\u001B[38;5;241;43m=\u001B[39;49m\u001B[38;5;28;43;01mTrue\u001B[39;49;00m\u001B[43m)\u001B[49m\n",
      "File \u001B[1;32m~\\Documents\\github\\forks\\thetadata\\client.py:402\u001B[0m, in \u001B[0;36mThetaClient.__init__\u001B[1;34m(self, port, timeout, launch, jvm_mem, username, passwd, thetadata_jar, auto_update, use_bundle, host, streaming_port, move_jar, check_download, stable)\u001B[0m\n\u001B[0;32m    394\u001B[0m     \u001B[38;5;28;01mif\u001B[39;00m username \u001B[38;5;241m==\u001B[39m \u001B[38;5;124m\"\u001B[39m\u001B[38;5;124mdefault\u001B[39m\u001B[38;5;124m\"\u001B[39m \u001B[38;5;129;01mor\u001B[39;00m passwd \u001B[38;5;241m==\u001B[39m \u001B[38;5;124m\"\u001B[39m\u001B[38;5;124mdefault\u001B[39m\u001B[38;5;124m\"\u001B[39m:\n\u001B[0;32m    395\u001B[0m         logging\u001B[38;5;241m.\u001B[39mwarning(\u001B[38;5;124m\"\u001B[39m\u001B[38;5;124mYou are using the free version of Theta Data.\u001B[39m\u001B[38;5;124m\"\u001B[39m\n\u001B[0;32m    396\u001B[0m                         \u001B[38;5;124m\"\u001B[39m\u001B[38;5;124m You are currently limited to 20 requests / \u001B[39m\u001B[38;5;124m\"\u001B[39m\n\u001B[0;32m    397\u001B[0m                         \u001B[38;5;124m\"\u001B[39m\u001B[38;5;124mminute.A data subscription can be purchased \u001B[39m\u001B[38;5;124m\"\u001B[39m\n\u001B[0;32m    398\u001B[0m                         \u001B[38;5;124m\"\u001B[39m\u001B[38;5;124mat https://thetadata.net. If you already have\u001B[39m\u001B[38;5;124m\"\u001B[39m\n\u001B[0;32m    399\u001B[0m                         \u001B[38;5;124m\"\u001B[39m\u001B[38;5;124m a ThetaData subscription, specify the \u001B[39m\u001B[38;5;124m\"\u001B[39m\n\u001B[0;32m    400\u001B[0m                         \u001B[38;5;124m\"\u001B[39m\u001B[38;5;124musername and passwd parameters.\u001B[39m\u001B[38;5;124m\"\u001B[39m)\n\u001B[1;32m--> 402\u001B[0m     \u001B[38;5;28;01mif\u001B[39;00m \u001B[43mcheck_download\u001B[49m\u001B[43m(\u001B[49m\u001B[43mauto_update\u001B[49m\u001B[43m,\u001B[49m\u001B[43m \u001B[49m\u001B[43mstable\u001B[49m\u001B[43m)\u001B[49m:\n\u001B[0;32m    403\u001B[0m         Thread(target\u001B[38;5;241m=\u001B[39mlaunch_terminal,\n\u001B[0;32m    404\u001B[0m                args\u001B[38;5;241m=\u001B[39m[username, passwd, use_bundle, jvm_mem,\n\u001B[0;32m    405\u001B[0m                      auto_update])\u001B[38;5;241m.\u001B[39mstart()\n\u001B[0;32m    406\u001B[0m \u001B[38;5;28;01melse\u001B[39;00m:\n",
      "\u001B[1;31mTypeError\u001B[0m: 'bool' object is not callable"
     ]
    }
   ],
   "execution_count": 2
  },
  {
   "metadata": {
    "ExecuteTime": {
     "end_time": "2024-11-28T10:31:15.348364Z",
     "start_time": "2024-11-28T10:31:14.282306Z"
    }
   },
   "cell_type": "code",
   "source": "client.status()",
   "id": "33632cf0a4b5d19d",
   "outputs": [
    {
     "data": {
      "text/plain": [
       "True"
      ]
     },
     "execution_count": 3,
     "metadata": {},
     "output_type": "execute_result"
    }
   ],
   "execution_count": 3
  },
  {
   "metadata": {},
   "cell_type": "code",
   "outputs": [],
   "execution_count": null,
   "source": "",
   "id": "14e029628552ea92"
  },
  {
   "metadata": {
    "ExecuteTime": {
     "end_time": "2024-10-29T18:25:47.681534Z",
     "start_time": "2024-10-29T18:25:47.017180Z"
    }
   },
   "cell_type": "code",
   "source": "client.kill()",
   "id": "58bc90b0db592805",
   "outputs": [
    {
     "name": "stderr",
     "output_type": "stream",
     "text": [
      "ERROR:root:TBD\n"
     ]
    }
   ],
   "execution_count": 3
  },
  {
   "metadata": {},
   "cell_type": "code",
   "outputs": [],
   "execution_count": null,
   "source": "",
   "id": "459b0883b44dfdc6"
  }
 ],
 "metadata": {
  "kernelspec": {
   "display_name": "Python 3",
   "language": "python",
   "name": "python3"
  },
  "language_info": {
   "codemirror_mode": {
    "name": "ipython",
    "version": 2
   },
   "file_extension": ".py",
   "mimetype": "text/x-python",
   "name": "python",
   "nbconvert_exporter": "python",
   "pygments_lexer": "ipython2",
   "version": "2.7.6"
  }
 },
 "nbformat": 4,
 "nbformat_minor": 5
}
