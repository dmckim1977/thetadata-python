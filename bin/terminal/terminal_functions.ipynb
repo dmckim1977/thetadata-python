{
 "cells": [
  {
   "cell_type": "code",
   "id": "initial_id",
   "metadata": {
    "collapsed": true,
    "ExecuteTime": {
     "end_time": "2024-10-29T18:25:33.834496Z",
     "start_time": "2024-10-29T18:25:32.561408Z"
    }
   },
   "source": [
    "import os\n",
    "import time\n",
    "\n",
    "import thetadata\n",
    "from thetadata import ThetaClient\n",
    "from dotenv import load_dotenv\n",
    "\n",
    "# Get environment variables in .env in project root\n",
    "load_dotenv()\n",
    "\n",
    "USERNAME=os.getenv('THETAUSER')\n",
    "PASSWORD=os.getenv('THETAPASS')"
   ],
   "outputs": [],
   "execution_count": 1
  },
  {
   "metadata": {
    "ExecuteTime": {
     "end_time": "2024-10-29T18:25:37.753398Z",
     "start_time": "2024-10-29T18:25:34.626080Z"
    }
   },
   "cell_type": "code",
   "source": "client = ThetaClient(username=USERNAME, passwd=PASSWORD, launch=True)",
   "id": "1726fb88bf0e3610",
   "outputs": [
    {
     "name": "stdout",
     "output_type": "stream",
     "text": [
      "If you require API support, feel free to join our discord server! http://discord.thetadata.us\n"
     ]
    }
   ],
   "execution_count": 2
  },
  {
   "metadata": {
    "ExecuteTime": {
     "end_time": "2024-10-29T18:25:47.681534Z",
     "start_time": "2024-10-29T18:25:47.017180Z"
    }
   },
   "cell_type": "code",
   "source": "client.kill()",
   "id": "58bc90b0db592805",
   "outputs": [
    {
     "name": "stderr",
     "output_type": "stream",
     "text": [
      "ERROR:root:TBD\n"
     ]
    }
   ],
   "execution_count": 3
  },
  {
   "metadata": {},
   "cell_type": "code",
   "outputs": [],
   "execution_count": null,
   "source": "",
   "id": "459b0883b44dfdc6"
  }
 ],
 "metadata": {
  "kernelspec": {
   "display_name": "Python 3",
   "language": "python",
   "name": "python3"
  },
  "language_info": {
   "codemirror_mode": {
    "name": "ipython",
    "version": 2
   },
   "file_extension": ".py",
   "mimetype": "text/x-python",
   "name": "python",
   "nbconvert_exporter": "python",
   "pygments_lexer": "ipython2",
   "version": "2.7.6"
  }
 },
 "nbformat": 4,
 "nbformat_minor": 5
}
